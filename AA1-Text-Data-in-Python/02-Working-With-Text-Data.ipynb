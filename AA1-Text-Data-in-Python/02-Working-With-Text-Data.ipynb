{
 "cells": [
  {
   "cell_type": "markdown",
   "metadata": {},
   "source": [
    "# Working with text data in Python\n",
    "\n",
    "Before we begin\n",
    "\n",
    "- String literals\n",
    "- Escaping special characters\n",
    "- String operations, indexing, slicing and formatting\n",
    "- Regular expressions\n",
    "\n",
    "## String literals\n",
    "\n",
    "For detailed information see the Python 3 [string documentation](https://docs.python.org/3/library/string.html)."
   ]
  },
  {
   "cell_type": "code",
   "execution_count": 1,
   "metadata": {
    "ExecuteTime": {
     "end_time": "2023-11-20T17:47:57.871809680Z",
     "start_time": "2023-11-20T17:47:57.871350157Z"
    }
   },
   "outputs": [],
   "source": [
    "## String literals\n",
    "simple_string = \"The dog chased the bat.\""
   ]
  },
  {
   "cell_type": "code",
   "execution_count": 13,
   "metadata": {
    "ExecuteTime": {
     "end_time": "2023-11-20T09:52:59.017333635Z",
     "start_time": "2023-11-20T09:52:58.456483327Z"
    }
   },
   "outputs": [],
   "source": [
    "## Quotation marks need to be escaped using \\ to remove their special meaning\n",
    "\n",
    "string_with_escape_char_1 = \"The building housing the John Snow pub was built in the 1870s and was originally called the \\\"Newcastle-upon-Tyne.\\\"\""
   ]
  },
  {
   "cell_type": "code",
   "execution_count": 14,
   "metadata": {
    "ExecuteTime": {
     "end_time": "2023-11-20T09:52:59.018816625Z",
     "start_time": "2023-11-20T09:52:58.477594956Z"
    }
   },
   "outputs": [
    {
     "data": {
      "text/plain": "'She said that this model is \"the best there is.\" '"
     },
     "execution_count": 14,
     "metadata": {},
     "output_type": "execute_result"
    }
   ],
   "source": [
    "## Long string format\n",
    "\n",
    "string_long_format = \"\"\"She said that this model is \"the best there is.\" \"\"\"\n",
    "string_long_format"
   ]
  },
  {
   "cell_type": "code",
   "execution_count": 2,
   "metadata": {
    "ExecuteTime": {
     "end_time": "2023-11-20T17:48:47.328103680Z",
     "start_time": "2023-11-20T17:48:47.281755772Z"
    }
   },
   "outputs": [
    {
     "name": "stdout",
     "output_type": "stream",
     "text": [
      "Press \t to align the piece of code...\n",
      "Press \\t to align the piece of code...\n",
      "Press \\t to align the piece of code...\n"
     ]
    }
   ],
   "source": [
    "## Some characters have a special meaning when preceeded by \\,\n",
    "\n",
    "string_with_escape_char_2 = \"Press \\t to align the piece of code...\"\n",
    "print(string_with_escape_char_2)\n",
    "\n",
    "string_with_escape_char_3 = \"Press \\\\t to align the piece of code...\"\n",
    "print(string_with_escape_char_3)\n",
    "\n",
    "## String prefixes: r\"string\": raw strings do not perform backspace interpolation and disable escape sequences\n",
    "string_with_escape_char_3 = r\"Press \\t to align the piece of code...\"\n",
    "print(string_with_escape_char_3)"
   ]
  },
  {
   "cell_type": "markdown",
   "source": [
    "## Selecting substrings\n",
    "\n",
    "Strings in Python work as immutable arrays."
   ],
   "metadata": {
    "collapsed": false
   }
  },
  {
   "cell_type": "code",
   "execution_count": 3,
   "outputs": [
    {
     "name": "stdout",
     "output_type": "stream",
     "text": [
      "64\n",
      "T\n",
      "The Sam Al\n",
      "TeSmAta rm onst  eprslti h ehwrd\n",
      ".lo ctetn ip eedao tipaadnml a h\n"
     ]
    }
   ],
   "source": [
    "sentence = \"The Sam Altman drama points to a deeper split in the tech world.\"\n",
    "\n",
    "print(len(sentence))\n",
    "\n",
    "print(sentence[0])\n",
    "print(sentence[0:10])\n",
    "print(sentence[::2])\n",
    "print(sentence[::-2])"
   ],
   "metadata": {
    "collapsed": false,
    "ExecuteTime": {
     "end_time": "2023-11-20T17:50:32.605955978Z",
     "start_time": "2023-11-20T17:50:32.561344499Z"
    }
   }
  },
  {
   "cell_type": "code",
   "execution_count": 4,
   "outputs": [
    {
     "ename": "TypeError",
     "evalue": "'str' object does not support item assignment",
     "output_type": "error",
     "traceback": [
      "\u001B[0;31m---------------------------------------------------------------------------\u001B[0m",
      "\u001B[0;31mTypeError\u001B[0m                                 Traceback (most recent call last)",
      "Cell \u001B[0;32mIn[4], line 1\u001B[0m\n\u001B[0;32m----> 1\u001B[0m \u001B[43msentence\u001B[49m\u001B[43m[\u001B[49m\u001B[38;5;241;43m0\u001B[39;49m\u001B[43m]\u001B[49m \u001B[38;5;241m=\u001B[39m \u001B[38;5;124m\"\u001B[39m\u001B[38;5;124mB\u001B[39m\u001B[38;5;124m\"\u001B[39m\n",
      "\u001B[0;31mTypeError\u001B[0m: 'str' object does not support item assignment"
     ]
    }
   ],
   "source": [
    "sentence[0] = \"B\""
   ],
   "metadata": {
    "collapsed": false,
    "ExecuteTime": {
     "end_time": "2023-11-20T17:52:20.331208187Z",
     "start_time": "2023-11-20T17:52:20.141184362Z"
    }
   }
  },
  {
   "cell_type": "markdown",
   "source": [
    "# Formatted String Literals\n",
    "\n",
    "Python 3.6 introduced *f-strings which are often more convenient to use\n",
    "than the `.format()` string method. With f-strings you can use outside variables which are interpolated into the string.\n",
    "\n",
    "For detailed information see the Python 3 [f-strings documentation](https://docs.python.org/3/reference/lexical_analysis.html#f-strings)."
   ],
   "metadata": {
    "collapsed": false
   }
  },
  {
   "cell_type": "code",
   "execution_count": 13,
   "outputs": [
    {
     "name": "stdout",
     "output_type": "stream",
     "text": [
      "Call +35988328349 for assistance.\n",
      "Dial +35988328349 for assistance.\n"
     ]
    }
   ],
   "source": [
    "phone_number = \"+35988328349\"\n",
    "\n",
    "print(f\"Call {phone_number} for assistance.\")\n",
    "print(\"Dial {phn} for assistance.\".format(phn = phone_number))"
   ],
   "metadata": {
    "collapsed": false,
    "ExecuteTime": {
     "end_time": "2023-11-20T14:02:24.515427060Z",
     "start_time": "2023-11-20T14:02:24.470532163Z"
    }
   }
  },
  {
   "cell_type": "markdown",
   "source": [
    "Printing the string representation of an object.\n"
   ],
   "metadata": {
    "collapsed": false
   }
  },
  {
   "cell_type": "markdown",
   "source": [
    "When using values from a dictionary, pay attention to the quotation marks."
   ],
   "metadata": {
    "collapsed": false
   }
  },
  {
   "cell_type": "code",
   "execution_count": 10,
   "outputs": [],
   "source": [
    "dct = {\"phone_number\": \"+35988328349\"}"
   ],
   "metadata": {
    "collapsed": false,
    "ExecuteTime": {
     "end_time": "2023-11-20T14:02:05.893908155Z",
     "start_time": "2023-11-20T14:02:05.871436526Z"
    }
   }
  },
  {
   "cell_type": "code",
   "execution_count": 14,
   "outputs": [
    {
     "ename": "SyntaxError",
     "evalue": "invalid syntax (180812370.py, line 1)",
     "output_type": "error",
     "traceback": [
      "\u001B[0;36m  Cell \u001B[0;32mIn[14], line 1\u001B[0;36m\u001B[0m\n\u001B[0;31m    print(f\"Call {dct[\"phone_number\"]}\")\u001B[0m\n\u001B[0m                       ^\u001B[0m\n\u001B[0;31mSyntaxError\u001B[0m\u001B[0;31m:\u001B[0m invalid syntax\n"
     ]
    }
   ],
   "source": [
    "print(f\"Call {dct[\"phone_number\"]}\")"
   ],
   "metadata": {
    "collapsed": false,
    "ExecuteTime": {
     "end_time": "2023-11-20T14:02:27.208507384Z",
     "start_time": "2023-11-20T14:02:27.191262446Z"
    }
   }
  },
  {
   "cell_type": "code",
   "execution_count": 15,
   "outputs": [
    {
     "name": "stdout",
     "output_type": "stream",
     "text": [
      "Call +35988328349.\n"
     ]
    }
   ],
   "source": [
    "print(f\"Call {dct['phone_number']}.\")"
   ],
   "metadata": {
    "collapsed": false,
    "ExecuteTime": {
     "end_time": "2023-11-20T14:02:29.462034376Z",
     "start_time": "2023-11-20T14:02:29.455123014Z"
    }
   }
  },
  {
   "cell_type": "markdown",
   "metadata": {},
   "source": [
    "## Local Text Files\n",
    "\n",
    "In the following we will use a jupyter notebooks specific way to first write a local file and then read it back. "
   ]
  },
  {
   "cell_type": "code",
   "execution_count": 5,
   "outputs": [
    {
     "name": "stdout",
     "output_type": "stream",
     "text": [
      "Writing tweets_hashtags_callouts.txt\n"
     ]
    }
   ],
   "source": [
    "%%writefile tweets_hashtags_callouts.txt\n",
    "Just returned to the @WhiteHouse after a great evening @ Monroe, Louisiana with a massive turnout of Great American Patriots. With early voting underway until Sat, find your polling location below & go vote for your next #LAgov, @EddieRispone! #GeauxVote➡️https://vote.donaldjtrump.com\n",
    "The degenerate Washington Post MADE UP the story about me asking Bill Barr to hold a news conference. Never happened, and there were no sources!\n",
    "LOUISIANA! Early voting is underway until Saturday, it’s time to get out and VOTE to REPLACE Radical Liberal Democrat John Bel Edwards with a great new REPUBLICAN Governor, @EddieRispone! #GeauxVote\n",
    "“Based on the things I’ve seen, the Democrats have no case, or a weak case, at best. I don’t think there are, or will be, well founded articles of Impeachment here.” Robert Wray, respected former prosecutor. It is a phony scam by the Do Nothing Dems! @foxandfriends"
   ],
   "metadata": {
    "collapsed": false,
    "ExecuteTime": {
     "end_time": "2023-11-20T17:55:52.464485022Z",
     "start_time": "2023-11-20T17:55:52.390548335Z"
    }
   }
  },
  {
   "cell_type": "code",
   "execution_count": 6,
   "metadata": {
    "scrolled": false,
    "ExecuteTime": {
     "end_time": "2023-11-20T17:57:54.359129176Z",
     "start_time": "2023-11-20T17:57:54.223662370Z"
    }
   },
   "outputs": [
    {
     "name": "stdout",
     "output_type": "stream",
     "text": [
      "Just returned to the @WhiteHouse after a great evening @ Monroe, Louisiana with a massive turnout of Great American Patriots. With early voting underway until Sat, find your polling location below & go vote for your next #LAgov, @EddieRispone! #GeauxVote➡️https://vote.donaldjtrump.com\n",
      "The degenerate Washington Post MADE UP the story about me asking Bill Barr to hold a news conference. Never happened, and there were no sources!\n",
      "LOUISIANA! Early voting is underway until Saturday, it’s time to get out and VOTE to REPLACE Radical Liberal Democrat John Bel Edwards with a great new REPUBLICAN Governor, @EddieRispone! #GeauxVote\n",
      "“Based on the things I’ve seen, the Democrats have no case, or a weak case, at best. I don’t think there are, or will be, well founded articles of Impeachment here.” Robert Wray, respected former prosecutor. It is a phony scam by the Do Nothing Dems! @foxandfriends\n"
     ]
    }
   ],
   "source": [
    "### Read the whole file string into memory\n",
    "\n",
    "## Opens a file handle in read mode\n",
    "f = open('tweets_hashtags_callouts.txt', 'r')\n",
    "\n",
    "## Reads the contents of the file as one string\n",
    "callouts_text = f.read()\n",
    "f.close()\n",
    "\n",
    "print(callouts_text)"
   ]
  },
  {
   "cell_type": "markdown",
   "source": [
    "Wrong paths are a common source of errors when reading files from your local system. You can check the current working directory of the notebook with the `getcwd()` function. Other errors can arise because of read/write permissions on your system. Make sure that you have write permissions for the repository\n",
    "where you cloned the GitHub repository."
   ],
   "metadata": {
    "collapsed": false
   }
  },
  {
   "cell_type": "code",
   "execution_count": 7,
   "outputs": [
    {
     "name": "stdout",
     "output_type": "stream",
     "text": [
      "/home/amarov/proj/statistics/ta2023/01-Text-Data-Basics\n"
     ]
    }
   ],
   "source": [
    "import os\n",
    "print(os.getcwd())"
   ],
   "metadata": {
    "collapsed": false,
    "ExecuteTime": {
     "end_time": "2023-11-20T17:58:46.363065715Z",
     "start_time": "2023-11-20T17:58:46.250692954Z"
    }
   }
  },
  {
   "cell_type": "markdown",
   "source": [
    "Usually it is safer to use aliases and context managers when reading files, because they take care to close the file handles."
   ],
   "metadata": {
    "collapsed": false
   }
  },
  {
   "cell_type": "code",
   "execution_count": 8,
   "outputs": [
    {
     "name": "stdout",
     "output_type": "stream",
     "text": [
      "Just returned to the @WhiteHouse after a great evening @ Monroe, Louisiana with a massive turnout of Great American Patriots. With early voting underway until Sat, find your polling location below & go vote for your next #LAgov, @EddieRispone! #GeauxVote➡️https://vote.donaldjtrump.com\n",
      "The degenerate Washington Post MADE UP the story about me asking Bill Barr to hold a news conference. Never happened, and there were no sources!\n",
      "LOUISIANA! Early voting is underway until Saturday, it’s time to get out and VOTE to REPLACE Radical Liberal Democrat John Bel Edwards with a great new REPUBLICAN Governor, @EddieRispone! #GeauxVote\n",
      "“Based on the things I’ve seen, the Democrats have no case, or a weak case, at best. I don’t think there are, or will be, well founded articles of Impeachment here.” Robert Wray, respected former prosecutor. It is a phony scam by the Do Nothing Dems! @foxandfriends\n"
     ]
    }
   ],
   "source": [
    "with open('tweets_hashtags_callouts.txt', 'r') as f:\n",
    "    text = f.read()\n",
    "\n",
    "print(text)"
   ],
   "metadata": {
    "collapsed": false,
    "ExecuteTime": {
     "end_time": "2023-11-20T17:59:27.447709079Z",
     "start_time": "2023-11-20T17:59:27.404090827Z"
    }
   }
  },
  {
   "cell_type": "code",
   "execution_count": 9,
   "metadata": {
    "ExecuteTime": {
     "end_time": "2023-11-20T18:00:40.134172488Z",
     "start_time": "2023-11-20T18:00:40.048126151Z"
    }
   },
   "outputs": [
    {
     "name": "stdout",
     "output_type": "stream",
     "text": [
      "Read 5 tweets.\n"
     ]
    },
    {
     "data": {
      "text/plain": "['Just returned to the @WhiteHouse after a great evening @ Monroe, Louisiana with a massive turnout of Great American Patriots. With early voting underway until Sat, find your polling location below & go vote for your next #LAgov, @EddieRispone! #GeauxVote➡️https://vote.donaldjtrump.com',\n 'The degenerate Washington Post MADE UP the story about me asking Bill Barr to hold a news conference. Never happened, and there were no sources!',\n 'LOUISIANA! Early voting is underway until Saturday, it’s time to get out and VOTE to REPLACE Radical Liberal Democrat John Bel Edwards with a great new REPUBLICAN Governor, @EddieRispone! #GeauxVote',\n '“Based on the things I’ve seen, the Democrats have no case, or a weak case, at best. I don’t think there are, or will be, well founded articles of Impeachment here.” Robert Wray, respected former prosecutor. It is a phony scam by the Do Nothing Dems! @foxandfriends',\n '']"
     },
     "execution_count": 9,
     "metadata": {},
     "output_type": "execute_result"
    }
   ],
   "source": [
    "## It is common that each line in the file\n",
    "## corresponds to a single record (e.g. tweet)\n",
    "\n",
    "## Splits the strings on newline\n",
    "\n",
    "tweets = callouts_text.split(\"\\n\")\n",
    "tweets[:2]\n",
    "\n",
    "print(f\"Read {len(tweets)} tweets.\")\n",
    "tweets"
   ]
  },
  {
   "cell_type": "markdown",
   "metadata": {},
   "source": [
    "String length"
   ]
  },
  {
   "cell_type": "code",
   "execution_count": 10,
   "metadata": {
    "ExecuteTime": {
     "end_time": "2023-11-20T18:02:52.924069013Z",
     "start_time": "2023-11-20T18:02:52.873164425Z"
    }
   },
   "outputs": [
    {
     "name": "stdout",
     "output_type": "stream",
     "text": [
      "The first tweet has 285 characters.\n"
     ]
    }
   ],
   "source": [
    "tweet1 = tweets[0]\n",
    "print(f\"The first tweet has {len(tweet1)} characters.\")"
   ]
  },
  {
   "cell_type": "markdown",
   "metadata": {},
   "source": [
    "String slices"
   ]
  },
  {
   "cell_type": "code",
   "execution_count": 11,
   "metadata": {
    "ExecuteTime": {
     "end_time": "2023-11-20T18:02:59.076283597Z",
     "start_time": "2023-11-20T18:02:59.031929855Z"
    }
   },
   "outputs": [
    {
     "name": "stdout",
     "output_type": "stream",
     "text": [
      "The first four characters of the first tweet: 'Just'\n"
     ]
    }
   ],
   "source": [
    "print(f\"The first four characters of the first tweet: '{tweet1[:4]}'\")"
   ]
  },
  {
   "cell_type": "markdown",
   "metadata": {},
   "source": [
    "String operations: `istitle()`, `isalnum()`, `lower()`, etc."
   ]
  },
  {
   "cell_type": "code",
   "execution_count": 12,
   "metadata": {
    "ExecuteTime": {
     "end_time": "2023-11-20T18:03:32.351732132Z",
     "start_time": "2023-11-20T18:03:32.308148458Z"
    }
   },
   "outputs": [
    {
     "data": {
      "text/plain": "'Title String'"
     },
     "execution_count": 12,
     "metadata": {},
     "output_type": "execute_result"
    }
   ],
   "source": [
    "\"title string\".title()"
   ]
  },
  {
   "cell_type": "code",
   "execution_count": 15,
   "metadata": {
    "ExecuteTime": {
     "end_time": "2023-11-20T18:03:50.415395363Z",
     "start_time": "2023-11-20T18:03:50.379558789Z"
    }
   },
   "outputs": [
    {
     "data": {
      "text/plain": "False"
     },
     "execution_count": 15,
     "metadata": {},
     "output_type": "execute_result"
    }
   ],
   "source": [
    "\"Title String\".istitle()"
   ]
  },
  {
   "cell_type": "code",
   "execution_count": 17,
   "metadata": {
    "ExecuteTime": {
     "end_time": "2023-11-20T18:04:03.195792225Z",
     "start_time": "2023-11-20T18:04:03.152120009Z"
    }
   },
   "outputs": [
    {
     "data": {
      "text/plain": "'upcase'"
     },
     "execution_count": 17,
     "metadata": {},
     "output_type": "execute_result"
    }
   ],
   "source": [
    "\"UpcaSe\".lower()"
   ]
  },
  {
   "cell_type": "code",
   "execution_count": 18,
   "metadata": {
    "ExecuteTime": {
     "end_time": "2023-11-20T18:04:09.867278430Z",
     "start_time": "2023-11-20T18:04:09.829306889Z"
    }
   },
   "outputs": [
    {
     "data": {
      "text/plain": "True"
     },
     "execution_count": 18,
     "metadata": {},
     "output_type": "execute_result"
    }
   ],
   "source": [
    "\"upcase\".islower()"
   ]
  },
  {
   "cell_type": "code",
   "execution_count": 24,
   "metadata": {
    "ExecuteTime": {
     "end_time": "2023-11-20T09:52:59.045369692Z",
     "start_time": "2023-11-20T09:52:58.694084134Z"
    }
   },
   "outputs": [
    {
     "data": {
      "text/plain": "'LOWCASE'"
     },
     "execution_count": 24,
     "metadata": {},
     "output_type": "execute_result"
    }
   ],
   "source": [
    "\"lowcase\".upper()"
   ]
  },
  {
   "cell_type": "code",
   "execution_count": 25,
   "metadata": {
    "ExecuteTime": {
     "end_time": "2023-11-20T09:52:59.046045407Z",
     "start_time": "2023-11-20T09:52:58.695118324Z"
    }
   },
   "outputs": [
    {
     "data": {
      "text/plain": "True"
     },
     "execution_count": 25,
     "metadata": {},
     "output_type": "execute_result"
    }
   ],
   "source": [
    "\"LOWCASE\".isupper()"
   ]
  },
  {
   "cell_type": "markdown",
   "metadata": {},
   "source": [
    "Commonly it is useful to replace leading and trainling whitespace. The methods\n",
    "`strip()`, `rstrip()` and `lstrip()` are helpful."
   ]
  },
  {
   "cell_type": "code",
   "execution_count": 19,
   "metadata": {
    "ExecuteTime": {
     "end_time": "2023-11-20T18:04:50.112428836Z",
     "start_time": "2023-11-20T18:04:50.032164368Z"
    }
   },
   "outputs": [
    {
     "data": {
      "text/plain": "'with leading white space'"
     },
     "execution_count": 19,
     "metadata": {},
     "output_type": "execute_result"
    }
   ],
   "source": [
    "\"    with leading white space\".lstrip()"
   ]
  },
  {
   "cell_type": "code",
   "execution_count": 20,
   "metadata": {
    "ExecuteTime": {
     "end_time": "2023-11-20T18:05:01.590484921Z",
     "start_time": "2023-11-20T18:05:01.481155474Z"
    }
   },
   "outputs": [
    {
     "data": {
      "text/plain": "'with trailing whitespace'"
     },
     "execution_count": 20,
     "metadata": {},
     "output_type": "execute_result"
    }
   ],
   "source": [
    "\"with trailing whitespace        \".rstrip()"
   ]
  },
  {
   "cell_type": "code",
   "execution_count": 21,
   "metadata": {
    "ExecuteTime": {
     "end_time": "2023-11-20T18:05:05.088780713Z",
     "start_time": "2023-11-20T18:05:05.032314070Z"
    }
   },
   "outputs": [
    {
     "data": {
      "text/plain": "'with both leading and trailing whitespace'"
     },
     "execution_count": 21,
     "metadata": {},
     "output_type": "execute_result"
    }
   ],
   "source": [
    "\"   with both leading and trailing whitespace       \".strip()"
   ]
  },
  {
   "cell_type": "markdown",
   "metadata": {},
   "source": [
    "Another common operation is splitting a string on some character, e.g. whitespace"
   ]
  },
  {
   "cell_type": "code",
   "execution_count": 22,
   "metadata": {
    "ExecuteTime": {
     "end_time": "2023-11-20T18:05:23.223328207Z",
     "start_time": "2023-11-20T18:05:23.125214428Z"
    }
   },
   "outputs": [
    {
     "name": "stdout",
     "output_type": "stream",
     "text": [
      "['The', 'airplane', 'took', 'off.']\n"
     ]
    }
   ],
   "source": [
    "str_split = \"The airplane took off.\".split(\" \")\n",
    "print(str_split)"
   ]
  },
  {
   "cell_type": "markdown",
   "metadata": {},
   "source": [
    "Different from other languages, joining\n",
    "a list of strings is a method of string (the separator)."
   ]
  },
  {
   "cell_type": "code",
   "execution_count": 23,
   "metadata": {
    "ExecuteTime": {
     "end_time": "2023-11-20T18:06:33.445990557Z",
     "start_time": "2023-11-20T18:06:33.341063302Z"
    }
   },
   "outputs": [
    {
     "data": {
      "text/plain": "'The,airplane,took,off.'"
     },
     "execution_count": 23,
     "metadata": {},
     "output_type": "execute_result"
    }
   ],
   "source": [
    "\",\".join(str_split)"
   ]
  },
  {
   "cell_type": "markdown",
   "metadata": {},
   "source": [
    "Replacing substrings\n",
    "\n",
    "Note that as strings are immutable, the `.replace()` method returns a new string.\n"
   ]
  },
  {
   "cell_type": "code",
   "execution_count": 24,
   "outputs": [
    {
     "data": {
      "text/plain": "'- string to replace a string'"
     },
     "execution_count": 24,
     "metadata": {},
     "output_type": "execute_result"
    }
   ],
   "source": [
    "\"some string to replace a string\".replace(\"some\", \"-\")"
   ],
   "metadata": {
    "collapsed": false,
    "ExecuteTime": {
     "end_time": "2023-11-20T18:07:29.620534973Z",
     "start_time": "2023-11-20T18:07:29.561911360Z"
    }
   }
  }
 ],
 "metadata": {
  "kernelspec": {
   "display_name": "Python 3 (ipykernel)",
   "language": "python",
   "name": "python3"
  },
  "language_info": {
   "codemirror_mode": {
    "name": "ipython",
    "version": 3
   },
   "file_extension": ".py",
   "mimetype": "text/x-python",
   "name": "python",
   "nbconvert_exporter": "python",
   "pygments_lexer": "ipython3",
   "version": "3.8.13"
  }
 },
 "nbformat": 4,
 "nbformat_minor": 1
}
