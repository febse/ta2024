{
 "cells": [
  {
   "cell_type": "code",
   "execution_count": 30,
   "metadata": {
    "ExecuteTime": {
     "end_time": "2023-11-20T17:14:09.631400793Z",
     "start_time": "2023-11-20T17:14:09.572769927Z"
    }
   },
   "outputs": [],
   "source": [
    "import pandas as pd\n",
    "from urllib import request\n",
    "from IPython.display import display, HTML"
   ]
  },
  {
   "cell_type": "markdown",
   "metadata": {
    "collapsed": true
   },
   "source": [
    "## Introduction\n",
    "\n",
    "Why text analytics?\n",
    "\n",
    "- Information Extraction\n",
    "- Classification: hate speech, spam, etc.\n",
    "- Sentiment analysis\n",
    "- Topic modelling\n",
    "- Document retrieval\n",
    "- Machine translation\n",
    "- Question answering\n",
    "\n",
    "Sources of textual data:\n",
    "\n",
    "- Wikipedia\n",
    "- X (Twitter, Reddit, etc.), Facebook, other social media\n",
    "- News websites\n",
    "- Blogs\n",
    "- Emails\n",
    "- .... and many more, think of other examples\n",
    "\n",
    "Structured vs unstructured data:\n",
    "- E.g. the data from a census is structured because it is organized in a tabular format with rows and columns.\n",
    "- Textual, audio, image and video data is often called unstructured. This does not say that there is no structure in such data, but that there is no unique way to represent the data in a tabular (numeric) format.\n",
    "- In this course we will focus on the application of machine learning (ML) to textual data. As ML operates on numeric data, we need to look for a mapping from textual data to numeric data.\n",
    "\n",
    "\n",
    ":::{#exr-text-classification-lexicon}\n",
    "## Lexicon approach to text classification\n",
    "\n",
    "We begin with a small example that to showcase one of the problems associated with unstructured textual data.\n",
    "In the following we read file `ballet.txt` from GitHub storage and decode it. The file contains an article about a ballet dancer, Ms. Kretzschmar. Our goal in this exercise is to classify each sentence in the article into four categories: male, female, mixed and unknown, depending on the words used in the sentence.\n",
    "\n",
    "each sentence into four categories depending on the gender mentioned in each sentence: \"male\", \"female\", \"mixed\" or \"unknown\".\n",
    "\n",
    ":::"
   ]
  },
  {
   "cell_type": "code",
   "execution_count": 19,
   "metadata": {
    "ExecuteTime": {
     "end_time": "2023-11-20T17:18:13.762589933Z",
     "start_time": "2023-11-20T17:18:13.675910229Z"
    }
   },
   "outputs": [
    {
     "data": {
      "text/html": [
       "<pre style='white-space: pre-wrap; word-wrap: break-word;'>With apologies to James Brown, the hardest working people in show business may well be ballet dancers. And at New York City Ballet, none work harder than the dancers in its lowest rank, the corps de ballet. During the first week of the company’s winter season, Claire Kretzschmar, 24, a rising corps member, danced in all seven performances, appearing in five ballets, sometimes changing costumes at intermission to dance two roles in a night.\n",
       "\n",
       "But her work onstage did not even begin to capture the stamina required to be in the corps. Spending a week shadowing Ms. Kretzschmar was exhausting — she gave new meaning to the idea of being on your feet all day. Twelve-hour days at the David H. Koch Theater, the company’s Lincoln Center home, were hardly unusual: Company class each morning was followed by back-to-back-to-back rehearsals, with occasional breaks for costume fittings or physical therapy, and then by the hair-makeup-costume-dance routine of daily performances.\n",
       "\n",
       "Video\n",
       "Every day, Clair</pre>"
      ],
      "text/plain": [
       "<IPython.core.display.HTML object>"
      ]
     },
     "metadata": {},
     "output_type": "display_data"
    }
   ],
   "source": [
    "url_handle = request.urlopen(\"https://raw.githubusercontent.com/boyko/text-analytics-script/main/data/ballet.txt\")\n",
    "article = url_handle.read().decode(\"utf-8\")\n",
    "\n",
    "display(HTML(f\"<pre style='white-space: pre-wrap; word-wrap: break-word;'>{article[:1000]}</pre>\"))"
   ]
  },
  {
   "cell_type": "markdown",
   "metadata": {},
   "source": [
    "As we want to classify sentences, our first task should be to split the text into sentences. Unfortunately, this is not as easy as it sounds. Give it a try: use the string method `split` or a regular expression to split the text into sentences. In the end you should produce a list of sentences. Look at the resulting list and see where the sentences make sense and where not. What difficulties do you encounter?\n",
    "\n",
    "```python\n",
    "import re\n",
    "\n",
    "\"A dog loves to play. A cat loves to sleep. A bird loves to fly.\".split(\".)\n",
    "\n",
    "re.split(r\"\\.\", \"A dog loves to play. A cat loves to sleep. A bird loves to fly.\")\n",
    "```\n"
   ]
  },
  {
   "cell_type": "code",
   "execution_count": 20,
   "metadata": {
    "ExecuteTime": {
     "end_time": "2023-11-20T17:19:54.096550313Z",
     "start_time": "2023-11-20T17:19:53.999596802Z"
    }
   },
   "outputs": [
    {
     "name": "stdout",
     "output_type": "stream",
     "text": [
      "The articles contain 167 sentences.\n",
      "The first 5 sentences are\n"
     ]
    },
    {
     "data": {
      "text/plain": [
       "['With apologies to James Brown, the hardest working people in show business may well be ballet dancers',\n",
       " ' And at New York City Ballet, none work harder than the dancers in its lowest rank, the corps de ballet',\n",
       " ' During the first week of the company’s winter season, Claire Kretzschmar, 24, a rising corps member, danced in all seven performances, appearing in five ballets, sometimes changing costumes at intermission to dance two roles in a night',\n",
       " '\\n\\nBut her work onstage did not even begin to capture the stamina required to be in the corps',\n",
       " ' Spending a week shadowing Ms']"
      ]
     },
     "execution_count": 20,
     "metadata": {},
     "output_type": "execute_result"
    }
   ],
   "source": [
    "article_sents = article.split(\".\")\n",
    "\n",
    "print(f\"The articles contain {len(article_sents)} sentences.\")\n",
    "print(f\"The first 5 sentences are\")\n",
    "article_sents[:5]"
   ]
  },
  {
   "cell_type": "code",
   "execution_count": 21,
   "metadata": {},
   "outputs": [],
   "source": [
    "# Try your own code here\n",
    "\n",
    "# my_sents = ..."
   ]
  },
  {
   "cell_type": "markdown",
   "metadata": {},
   "source": [
    "Now that we have a list of sentences, we can proceed to count how many words in each sentence are in a set of words that we have defined for each category (in `MALE_WORDS` and `FEMALE_WORDS`).\n",
    "\n",
    "So we need to do the following:\n",
    "\n",
    "- Loop over the list of sentences\n",
    "- For each sentence, split it into words and get a set of the unique words\n",
    "- For each word, check if it is in `MALE_WORDS` or `FEMALE_WORDS`\n"
   ]
  },
  {
   "cell_type": "code",
   "execution_count": 22,
   "metadata": {
    "ExecuteTime": {
     "end_time": "2023-11-20T17:20:29.846960655Z",
     "start_time": "2023-11-20T17:20:29.745118004Z"
    }
   },
   "outputs": [],
   "source": [
    "MALE_WORDS = set([\n",
    "    'guy', 'spokesman', 'chairman', \"men's\", 'men', 'him', \"he's\", 'his',\n",
    "    'boy', 'boyfriend', 'boyfriends', 'boys', 'brother', 'brothers', 'dad',\n",
    "    'dads', 'dude', 'father', 'fathers', 'fiance', 'gentleman', 'gentlemen',\n",
    "    'god', 'grandfather', 'grandpa', 'grandson', 'groom', 'he', 'himself',\n",
    "    'husband', 'husbands', 'king', 'male', 'man', 'mr', 'nephew', 'nephews',\n",
    "    'priest', 'prince', 'son', 'sons', 'uncle', 'uncles', 'waiter', 'widower',\n",
    "    'widowers'\n",
    "])\n",
    "\n",
    "FEMALE_WORDS = set([\n",
    "    'heroine', 'spokeswoman', 'chairwoman', \"women's\", 'actress', 'women',\n",
    "    \"she's\", 'her', 'aunt', 'aunts', 'bride', 'daughter', 'daughters', 'female',\n",
    "    'fiancee', 'girl', 'girlfriend', 'girlfriends', 'girls', 'goddess',\n",
    "    'granddaughter', 'grandma', 'grandmother', 'herself', 'ladies', 'lady',\n",
    "    'mom', 'moms', 'mother', 'mothers', 'mrs', 'ms', 'niece', 'nieces',\n",
    "    'priestess', 'princess', 'queens', 'she', 'sister', 'sisters', 'waitress',\n",
    "    'widow', 'widows', 'wife', 'wives', 'woman'\n",
    "])"
   ]
  },
  {
   "cell_type": "code",
   "execution_count": 23,
   "metadata": {},
   "outputs": [],
   "source": [
    "# Split the article into ords\n",
    "\n",
    "# my_sents = []\n",
    "\n"
   ]
  },
  {
   "cell_type": "code",
   "execution_count": 38,
   "metadata": {
    "ExecuteTime": {
     "end_time": "2023-11-20T17:23:12.515544277Z",
     "start_time": "2023-11-20T17:23:12.437785916Z"
    }
   },
   "outputs": [
    {
     "name": "stdout",
     "output_type": "stream",
     "text": [
      "['unknown', 'unknown', 'unknown', 'female', 'unknown', 'female', 'unknown', 'unknown', 'unknown', 'female', 'unknown', 'unknown', 'unknown', 'unknown', 'female', 'male', 'unknown', 'unknown', 'unknown', 'unknown', 'unknown', 'unknown', 'unknown', 'unknown', 'unknown', 'unknown', 'unknown', 'unknown', 'female', 'unknown', 'unknown', 'unknown', 'male', 'unknown', 'unknown', 'unknown', 'unknown', 'female', 'unknown', 'unknown', 'female', 'female', 'female', 'female', 'unknown', 'unknown', 'unknown', 'female', 'unknown', 'unknown', 'unknown', 'female', 'unknown', 'female', 'unknown', 'female', 'female', 'unknown', 'unknown', 'unknown', 'unknown', 'unknown', 'unknown', 'unknown', 'unknown', 'unknown', 'unknown', 'unknown', 'unknown', 'unknown', 'unknown', 'female', 'female', 'unknown', 'female', 'unknown', 'unknown', 'unknown', 'unknown', 'unknown', 'unknown', 'female', 'unknown', 'female', 'unknown', 'unknown', 'unknown', 'female', 'unknown', 'mixed', 'unknown', 'unknown', 'unknown', 'unknown', 'unknown', 'unknown', 'unknown', 'unknown', 'unknown', 'unknown', 'unknown', 'unknown', 'female', 'unknown', 'unknown', 'unknown', 'unknown', 'female', 'female', 'female', 'female', 'unknown', 'unknown', 'unknown', 'unknown', 'unknown', 'unknown', 'unknown', 'unknown', 'female', 'female', 'female', 'unknown', 'female', 'male', 'male', 'female', 'unknown', 'unknown', 'unknown', 'unknown', 'unknown', 'unknown', 'unknown', 'female', 'unknown', 'unknown', 'unknown', 'unknown', 'unknown', 'female', 'unknown', 'unknown', 'unknown', 'unknown', 'unknown', 'female', 'unknown', 'female', 'unknown', 'unknown', 'female', 'unknown', 'female', 'female', 'unknown', 'unknown', 'unknown', 'unknown', 'unknown', 'unknown', 'female', 'female', 'female', 'female', 'unknown', 'unknown']\n"
     ]
    }
   ],
   "source": [
    "def get_unique_words(sentence: str) -> set:\n",
    "    return set(sentence.split(' '))\n",
    "\n",
    "\n",
    "def classify(words) -> str:\n",
    "    female_words = len(FEMALE_WORDS.intersection(words))\n",
    "    male_words =  len(MALE_WORDS.intersection(words))\n",
    "    \n",
    "    if male_words > 0 and female_words == 0:\n",
    "        return 'male'\n",
    "    if male_words == 0 and female_words > 0:\n",
    "        return 'female'\n",
    "    if male_words == 0 and female_words == 0:\n",
    "        return 'unknown'\n",
    "\n",
    "    return 'mixed'\n",
    "\n",
    "categories = []\n",
    "\n",
    "for sent in article_sents:\n",
    "    categories.append(classify(get_unique_words(sent)))\n",
    "\n",
    "print(categories)"
   ]
  },
  {
   "cell_type": "code",
   "execution_count": 39,
   "metadata": {
    "ExecuteTime": {
     "end_time": "2023-11-20T17:23:30.820639849Z",
     "start_time": "2023-11-20T17:23:30.760748938Z"
    }
   },
   "outputs": [
    {
     "data": {
      "text/html": [
       "<div>\n",
       "<style scoped>\n",
       "    .dataframe tbody tr th:only-of-type {\n",
       "        vertical-align: middle;\n",
       "    }\n",
       "\n",
       "    .dataframe tbody tr th {\n",
       "        vertical-align: top;\n",
       "    }\n",
       "\n",
       "    .dataframe thead th {\n",
       "        text-align: right;\n",
       "    }\n",
       "</style>\n",
       "<table border=\"1\" class=\"dataframe\">\n",
       "  <thead>\n",
       "    <tr style=\"text-align: right;\">\n",
       "      <th></th>\n",
       "      <th>sent</th>\n",
       "      <th>category</th>\n",
       "    </tr>\n",
       "  </thead>\n",
       "  <tbody>\n",
       "    <tr>\n",
       "      <th>0</th>\n",
       "      <td>With apologies to James Brown, the hardest wor...</td>\n",
       "      <td>unknown</td>\n",
       "    </tr>\n",
       "    <tr>\n",
       "      <th>1</th>\n",
       "      <td>And at New York City Ballet, none work harder...</td>\n",
       "      <td>unknown</td>\n",
       "    </tr>\n",
       "    <tr>\n",
       "      <th>2</th>\n",
       "      <td>During the first week of the company’s winter...</td>\n",
       "      <td>unknown</td>\n",
       "    </tr>\n",
       "    <tr>\n",
       "      <th>3</th>\n",
       "      <td>\\n\\nBut her work onstage did not even begin to...</td>\n",
       "      <td>female</td>\n",
       "    </tr>\n",
       "    <tr>\n",
       "      <th>4</th>\n",
       "      <td>Spending a week shadowing Ms</td>\n",
       "      <td>unknown</td>\n",
       "    </tr>\n",
       "  </tbody>\n",
       "</table>\n",
       "</div>"
      ],
      "text/plain": [
       "                                                sent category\n",
       "0  With apologies to James Brown, the hardest wor...  unknown\n",
       "1   And at New York City Ballet, none work harder...  unknown\n",
       "2   During the first week of the company’s winter...  unknown\n",
       "3  \\n\\nBut her work onstage did not even begin to...   female\n",
       "4                       Spending a week shadowing Ms  unknown"
      ]
     },
     "execution_count": 39,
     "metadata": {},
     "output_type": "execute_result"
    }
   ],
   "source": [
    "sents_dt = pd.DataFrame({\n",
    "    \"sent\": article_sents,\n",
    "    \"category\": categories,\n",
    "})\n",
    "\n",
    "sents_dt.head()"
   ]
  },
  {
   "cell_type": "code",
   "execution_count": 40,
   "metadata": {},
   "outputs": [
    {
     "data": {
      "text/plain": [
       "category\n",
       "unknown    120\n",
       "female      42\n",
       "male         4\n",
       "mixed        1\n",
       "Name: count, dtype: int64"
      ]
     },
     "execution_count": 40,
     "metadata": {},
     "output_type": "execute_result"
    }
   ],
   "source": [
    "sents_dt[\"category\"].value_counts()"
   ]
  },
  {
   "cell_type": "markdown",
   "metadata": {},
   "source": [
    ":::{.callout note}\n",
    "## Short Summary\n",
    "\n",
    "- Textual data is unstructured data (no unique mapping to a numeric representation)\n",
    "- The data consists of characters that form words, words that form sentences, sentences that form paragraphs, and paragraphs that form whole documents.\n",
    "- Difficulties separating sentences: sentences can end with a period, exclamation mark, question mark, etc. Not every period ends a sentence.\n",
    "- Difficulties separating words: words can be separated by spaces, but also by punctuation marks.\n",
    "\n",
    ":::"
   ]
  },
  {
   "cell_type": "markdown",
   "metadata": {
    "collapsed": false
   },
   "source": [
    ":::{#exr-tiny-classification}\n",
    "\n",
    "## Another tiny classification example\n",
    "\n",
    "In the previous example we looked at a lexicon-based approach to text classification that relied on predefined sets of words, associated with different classes. In this example we have labeled data, i.e. we know the class of each text. Instead of using a lexicon, here we will try to _learn_ a lexicon\n",
    "from the labeled data.\n",
    "\n",
    "The \n",
    ":::"
   ]
  },
  {
   "cell_type": "code",
   "execution_count": 44,
   "metadata": {
    "ExecuteTime": {
     "end_time": "2023-11-20T17:28:21.759958723Z",
     "start_time": "2023-11-20T17:28:21.713410519Z"
    },
    "collapsed": false
   },
   "outputs": [
    {
     "data": {
      "text/html": [
       "<div>\n",
       "<style scoped>\n",
       "    .dataframe tbody tr th:only-of-type {\n",
       "        vertical-align: middle;\n",
       "    }\n",
       "\n",
       "    .dataframe tbody tr th {\n",
       "        vertical-align: top;\n",
       "    }\n",
       "\n",
       "    .dataframe thead th {\n",
       "        text-align: right;\n",
       "    }\n",
       "</style>\n",
       "<table border=\"1\" class=\"dataframe\">\n",
       "  <thead>\n",
       "    <tr style=\"text-align: right;\">\n",
       "      <th></th>\n",
       "      <th>text</th>\n",
       "      <th>sentiment</th>\n",
       "    </tr>\n",
       "  </thead>\n",
       "  <tbody>\n",
       "    <tr>\n",
       "      <th>0</th>\n",
       "      <td>we love you</td>\n",
       "      <td>positive</td>\n",
       "    </tr>\n",
       "    <tr>\n",
       "      <th>1</th>\n",
       "      <td>they love us</td>\n",
       "      <td>positive</td>\n",
       "    </tr>\n",
       "    <tr>\n",
       "      <th>2</th>\n",
       "      <td>you are good</td>\n",
       "      <td>positive</td>\n",
       "    </tr>\n",
       "    <tr>\n",
       "      <th>3</th>\n",
       "      <td>he is good</td>\n",
       "      <td>positive</td>\n",
       "    </tr>\n",
       "    <tr>\n",
       "      <th>4</th>\n",
       "      <td>they love mary</td>\n",
       "      <td>positive</td>\n",
       "    </tr>\n",
       "    <tr>\n",
       "      <th>5</th>\n",
       "      <td>we hate you</td>\n",
       "      <td>negative</td>\n",
       "    </tr>\n",
       "    <tr>\n",
       "      <th>6</th>\n",
       "      <td>they hate us</td>\n",
       "      <td>negative</td>\n",
       "    </tr>\n",
       "    <tr>\n",
       "      <th>7</th>\n",
       "      <td>you are bad</td>\n",
       "      <td>negative</td>\n",
       "    </tr>\n",
       "    <tr>\n",
       "      <th>8</th>\n",
       "      <td>he is bad</td>\n",
       "      <td>negative</td>\n",
       "    </tr>\n",
       "    <tr>\n",
       "      <th>9</th>\n",
       "      <td>we hate mary</td>\n",
       "      <td>negative</td>\n",
       "    </tr>\n",
       "  </tbody>\n",
       "</table>\n",
       "</div>"
      ],
      "text/plain": [
       "             text sentiment\n",
       "0     we love you  positive\n",
       "1    they love us  positive\n",
       "2    you are good  positive\n",
       "3      he is good  positive\n",
       "4  they love mary  positive\n",
       "5     we hate you  negative\n",
       "6    they hate us  negative\n",
       "7     you are bad  negative\n",
       "8       he is bad  negative\n",
       "9    we hate mary  negative"
      ]
     },
     "execution_count": 44,
     "metadata": {},
     "output_type": "execute_result"
    }
   ],
   "source": [
    "pos_texts = [\n",
    "    \"we love you\",\n",
    "    \"they love us\",\n",
    "    \"you are good\",\n",
    "    \"he is good\",\n",
    "    \"they love mary\"\n",
    "]\n",
    "\n",
    "neg_texts = [\n",
    "    \"we hate you\",\n",
    "    \"they hate us\",\n",
    "    \"you are bad\",\n",
    "    \"he is bad\",\n",
    "    \"we hate mary\"\n",
    "]\n",
    "\n",
    "test_texts = [\n",
    "    \"they love mary\",\n",
    "    \"they are good\",\n",
    "    \"why do you hate mary\",\n",
    "    \"they are almost always good\",\n",
    "    \"we are very bad\"\n",
    "]\n",
    "\n",
    "dt = pd.DataFrame({\n",
    "    \"text\": pos_texts + neg_texts,\n",
    "    \"sentiment\": [\"positive\"] * len(pos_texts) + [\"negative\"] * len(neg_texts)\n",
    "})\n",
    "dt"
   ]
  },
  {
   "cell_type": "markdown",
   "metadata": {
    "collapsed": false
   },
   "source": [
    "Create a list of all words occurring in the texts.\n"
   ]
  },
  {
   "cell_type": "code",
   "execution_count": 49,
   "metadata": {
    "ExecuteTime": {
     "end_time": "2023-11-20T17:30:19.943493750Z",
     "start_time": "2023-11-20T17:30:19.858101346Z"
    },
    "collapsed": false
   },
   "outputs": [
    {
     "data": {
      "text/plain": [
       "['we',\n",
       " 'love',\n",
       " 'you',\n",
       " 'they',\n",
       " 'love',\n",
       " 'us',\n",
       " 'you',\n",
       " 'are',\n",
       " 'good',\n",
       " 'he',\n",
       " 'is',\n",
       " 'good',\n",
       " 'they',\n",
       " 'love',\n",
       " 'mary',\n",
       " 'we',\n",
       " 'hate',\n",
       " 'you',\n",
       " 'they',\n",
       " 'hate',\n",
       " 'us',\n",
       " 'you',\n",
       " 'are',\n",
       " 'bad',\n",
       " 'he',\n",
       " 'is',\n",
       " 'bad',\n",
       " 'we',\n",
       " 'hate',\n",
       " 'mary']"
      ]
     },
     "execution_count": 49,
     "metadata": {},
     "output_type": "execute_result"
    }
   ],
   "source": [
    "def get_words(text):\n",
    "    # return list([word for word in text.split(' ')])\n",
    "    for word in text.split(' '):\n",
    "        yield word\n",
    "\n",
    "words = []\n",
    "\n",
    "for i, text in dt[\"text\"].items():\n",
    "    for word in get_words(text):\n",
    "        words.append(word)\n",
    "\n",
    "words"
   ]
  },
  {
   "cell_type": "code",
   "execution_count": 54,
   "metadata": {},
   "outputs": [
    {
     "data": {
      "text/plain": [
       "['mary',\n",
       " 'are',\n",
       " 'us',\n",
       " 'is',\n",
       " 'they',\n",
       " 'you',\n",
       " 'bad',\n",
       " 'love',\n",
       " 'he',\n",
       " 'hate',\n",
       " 'good',\n",
       " 'we']"
      ]
     },
     "execution_count": 54,
     "metadata": {},
     "output_type": "execute_result"
    }
   ],
   "source": [
    "vocabulary = list(set(words))\n",
    "vocabulary"
   ]
  },
  {
   "cell_type": "markdown",
   "metadata": {
    "collapsed": false
   },
   "source": [
    "Write a function that creates a vector of the same length as\n",
    "the number of unique words for each text. At each index the list\n",
    "should have value 1 if the vocabulary word is contained in the text\n",
    "and zero otherwise."
   ]
  },
  {
   "cell_type": "code",
   "execution_count": 65,
   "metadata": {
    "ExecuteTime": {
     "end_time": "2023-11-20T17:38:52.604769475Z",
     "start_time": "2023-11-20T17:38:52.600255121Z"
    },
    "collapsed": false
   },
   "outputs": [
    {
     "data": {
      "text/plain": [
       "['we',\n",
       " 'love',\n",
       " 'you',\n",
       " 'they',\n",
       " 'us',\n",
       " 'are',\n",
       " 'good',\n",
       " 'he',\n",
       " 'is',\n",
       " 'mary',\n",
       " 'hate',\n",
       " 'bad']"
      ]
     },
     "execution_count": 65,
     "metadata": {},
     "output_type": "execute_result"
    }
   ],
   "source": [
    "# First, it is convenient to create a function that will return a dictionary of words\n",
    "\n",
    "def build_words2idx(text):\n",
    "    words2idx = {}\n",
    "    \n",
    "    counter = 0\n",
    "    for word in text.split(' '):\n",
    "        if word not in words2idx:\n",
    "            words2idx[word] = counter\n",
    "            counter += 1\n",
    "    return words2idx\n",
    "\n",
    "words2idx = build_words2idx(dt[\"text\"].str.cat(sep=' '))\n",
    "words2idx\n",
    "\n",
    "vocabulary = list(words2idx.keys())\n",
    "vocabulary"
   ]
  },
  {
   "cell_type": "code",
   "execution_count": 71,
   "metadata": {},
   "outputs": [
    {
     "data": {
      "text/html": [
       "<div>\n",
       "<style scoped>\n",
       "    .dataframe tbody tr th:only-of-type {\n",
       "        vertical-align: middle;\n",
       "    }\n",
       "\n",
       "    .dataframe tbody tr th {\n",
       "        vertical-align: top;\n",
       "    }\n",
       "\n",
       "    .dataframe thead th {\n",
       "        text-align: right;\n",
       "    }\n",
       "</style>\n",
       "<table border=\"1\" class=\"dataframe\">\n",
       "  <thead>\n",
       "    <tr style=\"text-align: right;\">\n",
       "      <th></th>\n",
       "      <th>text</th>\n",
       "      <th>sentiment</th>\n",
       "      <th>we</th>\n",
       "      <th>love</th>\n",
       "      <th>you</th>\n",
       "      <th>they</th>\n",
       "      <th>us</th>\n",
       "      <th>are</th>\n",
       "      <th>good</th>\n",
       "      <th>he</th>\n",
       "      <th>is</th>\n",
       "      <th>mary</th>\n",
       "      <th>hate</th>\n",
       "      <th>bad</th>\n",
       "    </tr>\n",
       "  </thead>\n",
       "  <tbody>\n",
       "    <tr>\n",
       "      <th>0</th>\n",
       "      <td>we love you</td>\n",
       "      <td>positive</td>\n",
       "      <td>1</td>\n",
       "      <td>1</td>\n",
       "      <td>1</td>\n",
       "      <td>0</td>\n",
       "      <td>0</td>\n",
       "      <td>0</td>\n",
       "      <td>0</td>\n",
       "      <td>0</td>\n",
       "      <td>0</td>\n",
       "      <td>0</td>\n",
       "      <td>0</td>\n",
       "      <td>0</td>\n",
       "    </tr>\n",
       "    <tr>\n",
       "      <th>1</th>\n",
       "      <td>they love us</td>\n",
       "      <td>positive</td>\n",
       "      <td>0</td>\n",
       "      <td>1</td>\n",
       "      <td>0</td>\n",
       "      <td>1</td>\n",
       "      <td>1</td>\n",
       "      <td>0</td>\n",
       "      <td>0</td>\n",
       "      <td>0</td>\n",
       "      <td>0</td>\n",
       "      <td>0</td>\n",
       "      <td>0</td>\n",
       "      <td>0</td>\n",
       "    </tr>\n",
       "    <tr>\n",
       "      <th>2</th>\n",
       "      <td>you are good</td>\n",
       "      <td>positive</td>\n",
       "      <td>0</td>\n",
       "      <td>0</td>\n",
       "      <td>1</td>\n",
       "      <td>0</td>\n",
       "      <td>0</td>\n",
       "      <td>1</td>\n",
       "      <td>1</td>\n",
       "      <td>0</td>\n",
       "      <td>0</td>\n",
       "      <td>0</td>\n",
       "      <td>0</td>\n",
       "      <td>0</td>\n",
       "    </tr>\n",
       "    <tr>\n",
       "      <th>3</th>\n",
       "      <td>he is good</td>\n",
       "      <td>positive</td>\n",
       "      <td>0</td>\n",
       "      <td>0</td>\n",
       "      <td>0</td>\n",
       "      <td>0</td>\n",
       "      <td>0</td>\n",
       "      <td>0</td>\n",
       "      <td>1</td>\n",
       "      <td>1</td>\n",
       "      <td>1</td>\n",
       "      <td>0</td>\n",
       "      <td>0</td>\n",
       "      <td>0</td>\n",
       "    </tr>\n",
       "    <tr>\n",
       "      <th>4</th>\n",
       "      <td>they love mary</td>\n",
       "      <td>positive</td>\n",
       "      <td>0</td>\n",
       "      <td>1</td>\n",
       "      <td>0</td>\n",
       "      <td>1</td>\n",
       "      <td>0</td>\n",
       "      <td>0</td>\n",
       "      <td>0</td>\n",
       "      <td>0</td>\n",
       "      <td>0</td>\n",
       "      <td>1</td>\n",
       "      <td>0</td>\n",
       "      <td>0</td>\n",
       "    </tr>\n",
       "    <tr>\n",
       "      <th>5</th>\n",
       "      <td>we hate you</td>\n",
       "      <td>negative</td>\n",
       "      <td>1</td>\n",
       "      <td>0</td>\n",
       "      <td>1</td>\n",
       "      <td>0</td>\n",
       "      <td>0</td>\n",
       "      <td>0</td>\n",
       "      <td>0</td>\n",
       "      <td>0</td>\n",
       "      <td>0</td>\n",
       "      <td>0</td>\n",
       "      <td>1</td>\n",
       "      <td>0</td>\n",
       "    </tr>\n",
       "    <tr>\n",
       "      <th>6</th>\n",
       "      <td>they hate us</td>\n",
       "      <td>negative</td>\n",
       "      <td>0</td>\n",
       "      <td>0</td>\n",
       "      <td>0</td>\n",
       "      <td>1</td>\n",
       "      <td>1</td>\n",
       "      <td>0</td>\n",
       "      <td>0</td>\n",
       "      <td>0</td>\n",
       "      <td>0</td>\n",
       "      <td>0</td>\n",
       "      <td>1</td>\n",
       "      <td>0</td>\n",
       "    </tr>\n",
       "    <tr>\n",
       "      <th>7</th>\n",
       "      <td>you are bad</td>\n",
       "      <td>negative</td>\n",
       "      <td>0</td>\n",
       "      <td>0</td>\n",
       "      <td>1</td>\n",
       "      <td>0</td>\n",
       "      <td>0</td>\n",
       "      <td>1</td>\n",
       "      <td>0</td>\n",
       "      <td>0</td>\n",
       "      <td>0</td>\n",
       "      <td>0</td>\n",
       "      <td>0</td>\n",
       "      <td>1</td>\n",
       "    </tr>\n",
       "    <tr>\n",
       "      <th>8</th>\n",
       "      <td>he is bad</td>\n",
       "      <td>negative</td>\n",
       "      <td>0</td>\n",
       "      <td>0</td>\n",
       "      <td>0</td>\n",
       "      <td>0</td>\n",
       "      <td>0</td>\n",
       "      <td>0</td>\n",
       "      <td>0</td>\n",
       "      <td>1</td>\n",
       "      <td>1</td>\n",
       "      <td>0</td>\n",
       "      <td>0</td>\n",
       "      <td>1</td>\n",
       "    </tr>\n",
       "    <tr>\n",
       "      <th>9</th>\n",
       "      <td>we hate mary</td>\n",
       "      <td>negative</td>\n",
       "      <td>1</td>\n",
       "      <td>0</td>\n",
       "      <td>0</td>\n",
       "      <td>0</td>\n",
       "      <td>0</td>\n",
       "      <td>0</td>\n",
       "      <td>0</td>\n",
       "      <td>0</td>\n",
       "      <td>0</td>\n",
       "      <td>1</td>\n",
       "      <td>1</td>\n",
       "      <td>0</td>\n",
       "    </tr>\n",
       "  </tbody>\n",
       "</table>\n",
       "</div>"
      ],
      "text/plain": [
       "             text sentiment  we  love  you  they  us  are  good  he  is  mary  \\\n",
       "0     we love you  positive   1     1    1     0   0    0     0   0   0     0   \n",
       "1    they love us  positive   0     1    0     1   1    0     0   0   0     0   \n",
       "2    you are good  positive   0     0    1     0   0    1     1   0   0     0   \n",
       "3      he is good  positive   0     0    0     0   0    0     1   1   1     0   \n",
       "4  they love mary  positive   0     1    0     1   0    0     0   0   0     1   \n",
       "5     we hate you  negative   1     0    1     0   0    0     0   0   0     0   \n",
       "6    they hate us  negative   0     0    0     1   1    0     0   0   0     0   \n",
       "7     you are bad  negative   0     0    1     0   0    1     0   0   0     0   \n",
       "8       he is bad  negative   0     0    0     0   0    0     0   1   1     0   \n",
       "9    we hate mary  negative   1     0    0     0   0    0     0   0   0     1   \n",
       "\n",
       "   hate  bad  \n",
       "0     0    0  \n",
       "1     0    0  \n",
       "2     0    0  \n",
       "3     0    0  \n",
       "4     0    0  \n",
       "5     1    0  \n",
       "6     1    0  \n",
       "7     0    1  \n",
       "8     0    1  \n",
       "9     1    0  "
      ]
     },
     "execution_count": 71,
     "metadata": {},
     "output_type": "execute_result"
    }
   ],
   "source": [
    "def count_word_occurrence(text, words2idx):\n",
    "    vector = [0] * len(words2idx)\n",
    "    for word in text.split(' '):\n",
    "        vector[words2idx[word]] += 1\n",
    "    return vector\n",
    "\n",
    "tmp = dt[\"text\"].apply(lambda x: count_word_occurrence(x, words2idx))\n",
    "\n",
    "tmp_dt = pd.DataFrame(tmp.tolist(), columns=vocabulary)\n",
    "tmp_dt = pd.concat([dt, tmp_dt], axis=1)\n",
    "tmp_dt"
   ]
  },
  {
   "cell_type": "markdown",
   "metadata": {
    "collapsed": false
   },
   "source": [
    "Create a new list `labels` that contains \"positive\" for positive texts and \"negative\" for negative texts."
   ]
  },
  {
   "cell_type": "code",
   "execution_count": 53,
   "metadata": {
    "ExecuteTime": {
     "end_time": "2023-11-20T17:38:56.580770155Z",
     "start_time": "2023-11-20T17:38:56.556806700Z"
    },
    "collapsed": false
   },
   "outputs": [
    {
     "data": {
      "text/plain": [
       "['positive',\n",
       " 'positive',\n",
       " 'positive',\n",
       " 'positive',\n",
       " 'positive',\n",
       " 'negative',\n",
       " 'negative',\n",
       " 'negative',\n",
       " 'negative',\n",
       " 'negative']"
      ]
     },
     "execution_count": 53,
     "metadata": {},
     "output_type": "execute_result"
    }
   ],
   "source": [
    "labels = [\"positive\"] * len(pos_texts) + [\"negative\"] * len(neg_texts)\n",
    "labels"
   ]
  },
  {
   "cell_type": "markdown",
   "metadata": {
    "collapsed": false
   },
   "source": [
    "Train a classification tree (use default settings) on the vectorized texts\n"
   ]
  },
  {
   "cell_type": "code",
   "execution_count": 75,
   "metadata": {
    "ExecuteTime": {
     "end_time": "2023-11-20T17:39:24.777039817Z",
     "start_time": "2023-11-20T17:39:24.644524419Z"
    },
    "collapsed": false
   },
   "outputs": [
    {
     "name": "stdout",
     "output_type": "stream",
     "text": [
      "['negative' 'positive']\n"
     ]
    },
    {
     "data": {
      "text/plain": [
       "[Text(0.6, 0.8333333333333334, 'hate <= 0.5\\ngini = 0.5\\nsamples = 10\\nvalue = [5, 5]'),\n",
       " Text(0.4, 0.5, 'bad <= 0.5\\ngini = 0.408\\nsamples = 7\\nvalue = [2, 5]'),\n",
       " Text(0.5, 0.6666666666666667, 'True  '),\n",
       " Text(0.2, 0.16666666666666666, 'gini = 0.0\\nsamples = 5\\nvalue = [0, 5]'),\n",
       " Text(0.6, 0.16666666666666666, 'gini = 0.0\\nsamples = 2\\nvalue = [2, 0]'),\n",
       " Text(0.8, 0.5, 'gini = 0.0\\nsamples = 3\\nvalue = [3, 0]'),\n",
       " Text(0.7, 0.6666666666666667, '  False')]"
      ]
     },
     "execution_count": 75,
     "metadata": {},
     "output_type": "execute_result"
    },
    {
     "data": {
      "image/png": "[encoded data removed]",
      "text/plain": [
       "<Figure size 640x480 with 1 Axes>"
      ]
     },
     "metadata": {},
     "output_type": "display_data"
    }
   ],
   "source": [
    "from sklearn.tree import DecisionTreeClassifier, plot_tree\n",
    "\n",
    "X = tmp_dt[vocabulary]\n",
    "y = tmp_dt[\"sentiment\"].values\n",
    "\n",
    "classifier = DecisionTreeClassifier(random_state=123, max_leaf_nodes=3)\n",
    "classifier.fit(X, y)\n",
    "# print(unique_words)\n",
    "print(classifier.classes_)\n",
    "\n",
    "plot_tree(classifier, feature_names=X.columns)"
   ]
  }
 ],
 "metadata": {
  "kernelspec": {
   "display_name": "Python 3 (ipykernel)",
   "language": "python",
   "name": "python3"
  },
  "language_info": {
   "codemirror_mode": {
    "name": "ipython",
    "version": 3
   },
   "file_extension": ".py",
   "mimetype": "text/x-python",
   "name": "python",
   "nbconvert_exporter": "python",
   "pygments_lexer": "ipython3",
   "version": "3.12.5"
  }
 },
 "nbformat": 4,
 "nbformat_minor": 1
}
