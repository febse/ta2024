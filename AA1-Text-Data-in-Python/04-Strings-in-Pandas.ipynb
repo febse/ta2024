{
 "cells": [
  {
   "cell_type": "markdown",
   "source": [
    "# Strings in pandas\n",
    "\n",
    "Panda series and data frames have build-in methods for text columns.\n",
    "For more information, visit the pandas [text data documentation](https://pandas.pydata.org/docs/user_guide/text.html)\n",
    "    Let us build an example data frame from the `callouts_text` object."
   ],
   "metadata": {
    "collapsed": false
   },
   "id": "8ea8d6129ce32fde"
  },
  {
   "cell_type": "code",
   "execution_count": 1,
   "outputs": [],
   "source": [
    "import pandas as pd"
   ],
   "metadata": {
    "collapsed": false,
    "ExecuteTime": {
     "end_time": "2023-11-20T18:27:48.401477619Z",
     "start_time": "2023-11-20T18:27:48.203527381Z"
    }
   },
   "id": "bff09fb25fd8e497"
  },
  {
   "cell_type": "code",
   "execution_count": 2,
   "outputs": [
    {
     "data": {
      "text/plain": "                                             content\n0  Just returned to the @WhiteHouse after a great...\n1  The degenerate Washington Post MADE UP the sto...\n2  LOUISIANA! Early voting is underway until Satu...\n3  “Based on the things I’ve seen, the Democrats ...",
      "text/html": "<div>\n<style scoped>\n    .dataframe tbody tr th:only-of-type {\n        vertical-align: middle;\n    }\n\n    .dataframe tbody tr th {\n        vertical-align: top;\n    }\n\n    .dataframe thead th {\n        text-align: right;\n    }\n</style>\n<table border=\"1\" class=\"dataframe\">\n  <thead>\n    <tr style=\"text-align: right;\">\n      <th></th>\n      <th>content</th>\n    </tr>\n  </thead>\n  <tbody>\n    <tr>\n      <th>0</th>\n      <td>Just returned to the @WhiteHouse after a great...</td>\n    </tr>\n    <tr>\n      <th>1</th>\n      <td>The degenerate Washington Post MADE UP the sto...</td>\n    </tr>\n    <tr>\n      <th>2</th>\n      <td>LOUISIANA! Early voting is underway until Satu...</td>\n    </tr>\n    <tr>\n      <th>3</th>\n      <td>“Based on the things I’ve seen, the Democrats ...</td>\n    </tr>\n  </tbody>\n</table>\n</div>"
     },
     "execution_count": 2,
     "metadata": {},
     "output_type": "execute_result"
    }
   ],
   "source": [
    "tweets = \"\"\"Just returned to the @WhiteHouse after a great evening @ Monroe, Louisiana with a massive turnout of Great American Patriots. With early voting underway until Sat, find your polling location below & go vote for your next #LAgov, @EddieRispone! #GeauxVote➡️https://vote.donaldjtrump.com\n",
    "The degenerate Washington Post MADE UP the story about me asking Bill Barr to hold a news conference. Never happened, and there were no sources!\n",
    "LOUISIANA! Early voting is underway until Saturday, it’s time to get out and VOTE to REPLACE Radical Liberal Democrat John Bel Edwards with a great new REPUBLICAN Governor, @EddieRispone! #GeauxVote\n",
    "“Based on the things I’ve seen, the Democrats have no case, or a weak case, at best. I don’t think there are, or will be, well founded articles of Impeachment here.” Robert Wray, respected former prosecutor. It is a phony scam by the Do Nothing Dems! @foxandfriends\"\"\".split(\"\\n\")\n",
    "\n",
    "co_df = pd.DataFrame(tweets, columns=[\"content\"])\n",
    "co_df"
   ],
   "metadata": {
    "collapsed": false,
    "ExecuteTime": {
     "end_time": "2023-11-20T18:28:34.461777037Z",
     "start_time": "2023-11-20T18:28:34.384670782Z"
    }
   },
   "id": "24ef57939f4774bd"
  },
  {
   "cell_type": "markdown",
   "source": [
    "Convert the `content` column to lowercase."
   ],
   "metadata": {
    "collapsed": false
   },
   "id": "21aacc6f66234333"
  },
  {
   "cell_type": "code",
   "execution_count": 3,
   "outputs": [
    {
     "data": {
      "text/plain": "                                             content\n0  just returned to the @whitehouse after a great...\n1  the degenerate washington post made up the sto...\n2  louisiana! early voting is underway until satu...\n3  “based on the things i’ve seen, the democrats ...",
      "text/html": "<div>\n<style scoped>\n    .dataframe tbody tr th:only-of-type {\n        vertical-align: middle;\n    }\n\n    .dataframe tbody tr th {\n        vertical-align: top;\n    }\n\n    .dataframe thead th {\n        text-align: right;\n    }\n</style>\n<table border=\"1\" class=\"dataframe\">\n  <thead>\n    <tr style=\"text-align: right;\">\n      <th></th>\n      <th>content</th>\n    </tr>\n  </thead>\n  <tbody>\n    <tr>\n      <th>0</th>\n      <td>just returned to the @whitehouse after a great...</td>\n    </tr>\n    <tr>\n      <th>1</th>\n      <td>the degenerate washington post made up the sto...</td>\n    </tr>\n    <tr>\n      <th>2</th>\n      <td>louisiana! early voting is underway until satu...</td>\n    </tr>\n    <tr>\n      <th>3</th>\n      <td>“based on the things i’ve seen, the democrats ...</td>\n    </tr>\n  </tbody>\n</table>\n</div>"
     },
     "execution_count": 3,
     "metadata": {},
     "output_type": "execute_result"
    }
   ],
   "source": [
    "co_df[\"content\"] = co_df[\"content\"].str.lower()\n",
    "co_df"
   ],
   "metadata": {
    "collapsed": false,
    "ExecuteTime": {
     "end_time": "2023-11-20T18:30:16.771917064Z",
     "start_time": "2023-11-20T18:30:16.730570813Z"
    }
   },
   "id": "8af7cafee11fbbd7"
  },
  {
   "cell_type": "markdown",
   "source": [
    "Count the number of mentions in each tweet."
   ],
   "metadata": {
    "collapsed": false
   },
   "id": "18cbf11a7ebc8e9d"
  },
  {
   "cell_type": "code",
   "execution_count": 4,
   "outputs": [
    {
     "data": {
      "text/plain": "                                             content  mentions_n\n0  just returned to the @whitehouse after a great...           2\n1  the degenerate washington post made up the sto...           0\n2  louisiana! early voting is underway until satu...           1\n3  “based on the things i’ve seen, the democrats ...           1",
      "text/html": "<div>\n<style scoped>\n    .dataframe tbody tr th:only-of-type {\n        vertical-align: middle;\n    }\n\n    .dataframe tbody tr th {\n        vertical-align: top;\n    }\n\n    .dataframe thead th {\n        text-align: right;\n    }\n</style>\n<table border=\"1\" class=\"dataframe\">\n  <thead>\n    <tr style=\"text-align: right;\">\n      <th></th>\n      <th>content</th>\n      <th>mentions_n</th>\n    </tr>\n  </thead>\n  <tbody>\n    <tr>\n      <th>0</th>\n      <td>just returned to the @whitehouse after a great...</td>\n      <td>2</td>\n    </tr>\n    <tr>\n      <th>1</th>\n      <td>the degenerate washington post made up the sto...</td>\n      <td>0</td>\n    </tr>\n    <tr>\n      <th>2</th>\n      <td>louisiana! early voting is underway until satu...</td>\n      <td>1</td>\n    </tr>\n    <tr>\n      <th>3</th>\n      <td>“based on the things i’ve seen, the democrats ...</td>\n      <td>1</td>\n    </tr>\n  </tbody>\n</table>\n</div>"
     },
     "execution_count": 4,
     "metadata": {},
     "output_type": "execute_result"
    }
   ],
   "source": [
    "co_df[\"mentions_n\"] = co_df[\"content\"].str.count(r\"@\\w+\")\n",
    "co_df"
   ],
   "metadata": {
    "collapsed": false,
    "ExecuteTime": {
     "end_time": "2023-11-20T18:31:07.240150583Z",
     "start_time": "2023-11-20T18:31:07.158691496Z"
    }
   },
   "id": "ec860278fae435c9"
  },
  {
   "cell_type": "markdown",
   "source": [
    "Count the number of uppercase words in each tweet. Use the [] to define a character class and the `\\b` character to match\n",
    "word boundaries."
   ],
   "metadata": {
    "collapsed": false
   },
   "id": "fedc0608fbbbb70a"
  },
  {
   "cell_type": "code",
   "execution_count": 5,
   "outputs": [
    {
     "data": {
      "text/plain": "                                             content  mentions_n  cries_n\n0  just returned to the @whitehouse after a great...           2        0\n1  the degenerate washington post made up the sto...           0        0\n2  louisiana! early voting is underway until satu...           1        0\n3  “based on the things i’ve seen, the democrats ...           1        0",
      "text/html": "<div>\n<style scoped>\n    .dataframe tbody tr th:only-of-type {\n        vertical-align: middle;\n    }\n\n    .dataframe tbody tr th {\n        vertical-align: top;\n    }\n\n    .dataframe thead th {\n        text-align: right;\n    }\n</style>\n<table border=\"1\" class=\"dataframe\">\n  <thead>\n    <tr style=\"text-align: right;\">\n      <th></th>\n      <th>content</th>\n      <th>mentions_n</th>\n      <th>cries_n</th>\n    </tr>\n  </thead>\n  <tbody>\n    <tr>\n      <th>0</th>\n      <td>just returned to the @whitehouse after a great...</td>\n      <td>2</td>\n      <td>0</td>\n    </tr>\n    <tr>\n      <th>1</th>\n      <td>the degenerate washington post made up the sto...</td>\n      <td>0</td>\n      <td>0</td>\n    </tr>\n    <tr>\n      <th>2</th>\n      <td>louisiana! early voting is underway until satu...</td>\n      <td>1</td>\n      <td>0</td>\n    </tr>\n    <tr>\n      <th>3</th>\n      <td>“based on the things i’ve seen, the democrats ...</td>\n      <td>1</td>\n      <td>0</td>\n    </tr>\n  </tbody>\n</table>\n</div>"
     },
     "execution_count": 5,
     "metadata": {},
     "output_type": "execute_result"
    }
   ],
   "source": [
    "co_df[\"cries_n\"] = co_df[\"content\"].str.count(r\"\\b[A-Z0-9]+\\b\")\n",
    "co_df"
   ],
   "metadata": {
    "collapsed": false,
    "ExecuteTime": {
     "end_time": "2023-11-20T18:31:52.086394803Z",
     "start_time": "2023-11-20T18:31:52.066663571Z"
    }
   },
   "id": "a313078bae8ceb5a"
  },
  {
   "cell_type": "markdown",
   "source": [
    "Count the length of the tweet in terms of characters.\n"
   ],
   "metadata": {
    "collapsed": false
   },
   "id": "c5c52396a86e39cd"
  },
  {
   "cell_type": "code",
   "execution_count": 6,
   "outputs": [
    {
     "data": {
      "text/plain": "                                             content  mentions_n  cries_n  \\\n0  just returned to the @whitehouse after a great...           2        0   \n1  the degenerate washington post made up the sto...           0        0   \n2  louisiana! early voting is underway until satu...           1        0   \n3  “based on the things i’ve seen, the democrats ...           1        0   \n\n   characters_n  \n0           285  \n1           144  \n2           198  \n3           265  ",
      "text/html": "<div>\n<style scoped>\n    .dataframe tbody tr th:only-of-type {\n        vertical-align: middle;\n    }\n\n    .dataframe tbody tr th {\n        vertical-align: top;\n    }\n\n    .dataframe thead th {\n        text-align: right;\n    }\n</style>\n<table border=\"1\" class=\"dataframe\">\n  <thead>\n    <tr style=\"text-align: right;\">\n      <th></th>\n      <th>content</th>\n      <th>mentions_n</th>\n      <th>cries_n</th>\n      <th>characters_n</th>\n    </tr>\n  </thead>\n  <tbody>\n    <tr>\n      <th>0</th>\n      <td>just returned to the @whitehouse after a great...</td>\n      <td>2</td>\n      <td>0</td>\n      <td>285</td>\n    </tr>\n    <tr>\n      <th>1</th>\n      <td>the degenerate washington post made up the sto...</td>\n      <td>0</td>\n      <td>0</td>\n      <td>144</td>\n    </tr>\n    <tr>\n      <th>2</th>\n      <td>louisiana! early voting is underway until satu...</td>\n      <td>1</td>\n      <td>0</td>\n      <td>198</td>\n    </tr>\n    <tr>\n      <th>3</th>\n      <td>“based on the things i’ve seen, the democrats ...</td>\n      <td>1</td>\n      <td>0</td>\n      <td>265</td>\n    </tr>\n  </tbody>\n</table>\n</div>"
     },
     "execution_count": 6,
     "metadata": {},
     "output_type": "execute_result"
    }
   ],
   "source": [
    "## Count the length of the tweet in characters\n",
    "co_df[\"characters_n\"] = co_df[\"content\"].str.len()\n",
    "co_df"
   ],
   "metadata": {
    "collapsed": false,
    "ExecuteTime": {
     "end_time": "2023-11-20T18:32:15.557967142Z",
     "start_time": "2023-11-20T18:32:15.512075206Z"
    }
   },
   "id": "2984c9f448b8fb87"
  },
  {
   "cell_type": "code",
   "execution_count": 8,
   "outputs": [
    {
     "data": {
      "text/plain": "                                             content  mentions_n  cries_n  \\\n0  just returned to the @whitehouse after a great...           2        0   \n1  the degenerate washington post made up the sto...           0        0   \n2  louisiana! early voting is underway until satu...           1        0   \n3  “based on the things i’ve seen, the democrats ...           1        0   \n\n   characters_n  words_cnt  \n0           285         40  \n1           144         25  \n2           198         30  \n3           265         47  ",
      "text/html": "<div>\n<style scoped>\n    .dataframe tbody tr th:only-of-type {\n        vertical-align: middle;\n    }\n\n    .dataframe tbody tr th {\n        vertical-align: top;\n    }\n\n    .dataframe thead th {\n        text-align: right;\n    }\n</style>\n<table border=\"1\" class=\"dataframe\">\n  <thead>\n    <tr style=\"text-align: right;\">\n      <th></th>\n      <th>content</th>\n      <th>mentions_n</th>\n      <th>cries_n</th>\n      <th>characters_n</th>\n      <th>words_cnt</th>\n    </tr>\n  </thead>\n  <tbody>\n    <tr>\n      <th>0</th>\n      <td>just returned to the @whitehouse after a great...</td>\n      <td>2</td>\n      <td>0</td>\n      <td>285</td>\n      <td>40</td>\n    </tr>\n    <tr>\n      <th>1</th>\n      <td>the degenerate washington post made up the sto...</td>\n      <td>0</td>\n      <td>0</td>\n      <td>144</td>\n      <td>25</td>\n    </tr>\n    <tr>\n      <th>2</th>\n      <td>louisiana! early voting is underway until satu...</td>\n      <td>1</td>\n      <td>0</td>\n      <td>198</td>\n      <td>30</td>\n    </tr>\n    <tr>\n      <th>3</th>\n      <td>“based on the things i’ve seen, the democrats ...</td>\n      <td>1</td>\n      <td>0</td>\n      <td>265</td>\n      <td>47</td>\n    </tr>\n  </tbody>\n</table>\n</div>"
     },
     "execution_count": 8,
     "metadata": {},
     "output_type": "execute_result"
    }
   ],
   "source": [
    "words_count = set()\n",
    "\n",
    "words_split = co_df[\"content\"].str.split(\"\\s+\", expand=True) \\\n",
    "    .stack() \\\n",
    "    .reset_index()\n",
    "\n",
    "counts = words_split.groupby(\"level_0\").apply(len).reset_index()\n",
    "co_df[\"words_cnt\"] = counts[0]\n",
    "co_df"
   ],
   "metadata": {
    "collapsed": false,
    "ExecuteTime": {
     "end_time": "2023-11-20T18:34:12.579591612Z",
     "start_time": "2023-11-20T18:34:12.530848031Z"
    }
   },
   "id": "776e924bccfda9c2"
  }
 ],
 "metadata": {
  "kernelspec": {
   "display_name": "Python 3",
   "language": "python",
   "name": "python3"
  },
  "language_info": {
   "codemirror_mode": {
    "name": "ipython",
    "version": 2
   },
   "file_extension": ".py",
   "mimetype": "text/x-python",
   "name": "python",
   "nbconvert_exporter": "python",
   "pygments_lexer": "ipython2",
   "version": "2.7.6"
  }
 },
 "nbformat": 4,
 "nbformat_minor": 5
}
