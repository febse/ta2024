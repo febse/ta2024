{
 "cells": [
  {
   "cell_type": "markdown",
   "source": [
    "# Regular expressions\n",
    "\n",
    "Regular expressions are a mini language for specifying search patterns and are an indispensable\n",
    "tool for handling text data in any programming language. Here we will briefly touch on some use cases in Python.\n",
    "For more details, please visit the Python [documentation](https://docs.python.org/3.7/library/re.html). This [short introduction](https://realpython.com/regex-python/) can also be helpful.\n"
   ],
   "metadata": {
    "collapsed": false
   },
   "id": "56a2dbc518dccedb"
  },
  {
   "cell_type": "code",
   "execution_count": 1,
   "outputs": [],
   "source": [
    "import re"
   ],
   "metadata": {
    "collapsed": false,
    "ExecuteTime": {
     "end_time": "2023-11-21T11:44:24.195866309Z",
     "start_time": "2023-11-21T11:44:24.185565630Z"
    }
   },
   "id": "a8a4e4fa60f6f5b8"
  },
  {
   "cell_type": "markdown",
   "source": [
    "Finding a match in a string"
   ],
   "metadata": {
    "collapsed": false
   },
   "id": "d49d84aa0005bba3"
  },
  {
   "cell_type": "code",
   "execution_count": 4,
   "outputs": [
    {
     "name": "stdout",
     "output_type": "stream",
     "text": [
      "Success!\n"
     ]
    }
   ],
   "source": [
    "## Test if the string contains the substring \"be\"\n",
    "\n",
    "has_match = re.search(r\"be\", \"Let it be\")\n",
    "\n",
    "if has_match:\n",
    "    print(\"Success!\")"
   ],
   "metadata": {
    "collapsed": false,
    "ExecuteTime": {
     "end_time": "2023-11-21T11:44:36.348523482Z",
     "start_time": "2023-11-21T11:44:36.306790037Z"
    }
   },
   "id": "bc72ce8d3381b8d6"
  },
  {
   "cell_type": "markdown",
   "source": [
    "Sometimes you want to ignore the case in both the regular expression and the string. You can specify this behaviour by passing the `re.IGNORECASE` modifier."
   ],
   "metadata": {
    "collapsed": false
   },
   "id": "a9e3a5a0d498bb7e"
  },
  {
   "cell_type": "code",
   "execution_count": 10,
   "outputs": [
    {
     "name": "stdout",
     "output_type": "stream",
     "text": [
      "Success\n"
     ]
    }
   ],
   "source": [
    "has_match = re.match(\"be\", \"Be it as it may\", re.IGNORECASE)\n",
    "\n",
    "print(\"Success\") if has_match else print(\"No match\")\n"
   ],
   "metadata": {
    "collapsed": false,
    "ExecuteTime": {
     "end_time": "2023-11-20T18:14:37.707550689Z",
     "start_time": "2023-11-20T18:14:37.630704523Z"
    }
   },
   "id": "51db64cdb9aa558a"
  },
  {
   "cell_type": "markdown",
   "source": [
    "Find all words starting with g of length 4. The character class `\\w` matches\n",
    "word characters."
   ],
   "metadata": {
    "collapsed": false
   },
   "id": "bba83dc1c2fa99fe"
  },
  {
   "cell_type": "code",
   "execution_count": 12,
   "outputs": [
    {
     "name": "stdout",
     "output_type": "stream",
     "text": [
      "['goal', 'goat']\n"
     ]
    }
   ],
   "source": [
    "matches = re.findall(r\"g\\w{3}\", \"The goal was to catch the goat.\")\n",
    "print(matches)"
   ],
   "metadata": {
    "collapsed": false,
    "ExecuteTime": {
     "end_time": "2023-11-20T18:15:12.401804898Z",
     "start_time": "2023-11-20T18:15:12.325039031Z"
    }
   },
   "id": "4e9d4f4af280fe47"
  },
  {
   "cell_type": "markdown",
   "source": [
    "The character class `\\d` matches decimal digits."
   ],
   "metadata": {
    "collapsed": false
   },
   "id": "9b6562aeca7fe3bb"
  },
  {
   "cell_type": "code",
   "execution_count": 16,
   "outputs": [
    {
     "name": "stdout",
     "output_type": "stream",
     "text": [
      "['2', '301']\n"
     ]
    }
   ],
   "source": [
    "matches = re.findall(r\"\\d+\", \"Find all integers like 2 and 301 here.\")\n",
    "print(matches)"
   ],
   "metadata": {
    "collapsed": false,
    "ExecuteTime": {
     "end_time": "2023-11-20T18:16:48.833828779Z",
     "start_time": "2023-11-20T18:16:48.754520401Z"
    }
   },
   "id": "16ec41cbcdfdcc6e"
  },
  {
   "cell_type": "markdown",
   "source": [
    "Find all substrings starting with g and ending with either t or l.\n"
   ],
   "metadata": {
    "collapsed": false
   },
   "id": "d6304c57f401c546"
  },
  {
   "cell_type": "code",
   "execution_count": 22,
   "outputs": [
    {
     "name": "stdout",
     "output_type": "stream",
     "text": [
      "['goal was t', 'goa.t']\n"
     ]
    }
   ],
   "source": [
    "matches = re.findall(r\"g.*?[t]\", \"The goal was to catch the goat.\")\n",
    "print(matches)"
   ],
   "metadata": {
    "collapsed": false,
    "ExecuteTime": {
     "end_time": "2023-11-20T18:21:18.266850554Z",
     "start_time": "2023-11-20T18:21:18.181606896Z"
    }
   },
   "id": "2801b6c26fa6de02"
  },
  {
   "cell_type": "markdown",
   "source": [
    "Use search to find substrings starting with @ and return it as a dictionary.\n"
   ],
   "metadata": {
    "collapsed": false
   },
   "id": "df41eda5c93c0ab1"
  },
  {
   "cell_type": "code",
   "execution_count": 7,
   "outputs": [
    {
     "name": "stdout",
     "output_type": "stream",
     "text": [
      "{'mention': '@Ann23'}\n"
     ]
    }
   ],
   "source": [
    "matches = re.search(r\"(?P<mention>@\\w+)\", \"Hi, @Ann23, @Patrick\")\n",
    "print(matches.groupdict())"
   ],
   "metadata": {
    "collapsed": false,
    "ExecuteTime": {
     "end_time": "2023-11-21T11:45:16.285041310Z",
     "start_time": "2023-11-21T11:45:16.216665291Z"
    }
   },
   "id": "20bf41b5ba81f4bb"
  },
  {
   "cell_type": "markdown",
   "source": [
    "Use a regular expression to compress whitespace within the string\n"
   ],
   "metadata": {
    "collapsed": false
   },
   "id": "3a653c924562bd4e"
  },
  {
   "cell_type": "code",
   "execution_count": 8,
   "outputs": [
    {
     "name": "stdout",
     "output_type": "stream",
     "text": [
      "A string with lots of white space.\n"
     ]
    }
   ],
   "source": [
    "cleaned_string = re.sub(r\"\\s+\", \" \", \"A     string                       with lots  of white space.\")\n",
    "print(cleaned_string)"
   ],
   "metadata": {
    "collapsed": false,
    "ExecuteTime": {
     "end_time": "2023-11-21T11:45:33.770903659Z",
     "start_time": "2023-11-21T11:45:33.747880065Z"
    }
   },
   "id": "8e80cc7dadc5d808"
  },
  {
   "cell_type": "markdown",
   "source": [
    "Use a regular expression to change the position of the first and last names in the following string:\n"
   ],
   "metadata": {
    "collapsed": false
   },
   "id": "566e3f43b62c3d0"
  },
  {
   "cell_type": "code",
   "execution_count": 9,
   "outputs": [
    {
     "data": {
      "text/plain": "'Santori, Mike'"
     },
     "execution_count": 9,
     "metadata": {},
     "output_type": "execute_result"
    }
   ],
   "source": [
    "cleaned_string = re.sub(r\"(\\w+) (\\w+)\", r\"\\2, \\1\", \"Mike Santori\")\n",
    "cleaned_string"
   ],
   "metadata": {
    "collapsed": false,
    "ExecuteTime": {
     "end_time": "2023-11-21T11:45:36.661562056Z",
     "start_time": "2023-11-21T11:45:36.659641367Z"
    }
   },
   "id": "a0b15ef05833585e"
  }
 ],
 "metadata": {
  "kernelspec": {
   "display_name": "Python 3",
   "language": "python",
   "name": "python3"
  },
  "language_info": {
   "codemirror_mode": {
    "name": "ipython",
    "version": 2
   },
   "file_extension": ".py",
   "mimetype": "text/x-python",
   "name": "python",
   "nbconvert_exporter": "python",
   "pygments_lexer": "ipython2",
   "version": "2.7.6"
  }
 },
 "nbformat": 4,
 "nbformat_minor": 5
}
