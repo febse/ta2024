{
 "cells": [
  {
   "cell_type": "code",
   "execution_count": 2,
   "id": "28c68a66",
   "metadata": {},
   "outputs": [
    {
     "name": "stdout",
     "output_type": "stream",
     "text": [
      "Requirement already satisfied: matplotlib-venn in /home/amarov/anaconda3/envs/stat2024/lib/python3.12/site-packages (1.1.1)\n",
      "Requirement already satisfied: matplotlib in /home/amarov/anaconda3/envs/stat2024/lib/python3.12/site-packages (from matplotlib-venn) (3.9.2)\n",
      "Requirement already satisfied: numpy in /home/amarov/anaconda3/envs/stat2024/lib/python3.12/site-packages (from matplotlib-venn) (1.26.4)\n",
      "Requirement already satisfied: scipy in /home/amarov/anaconda3/envs/stat2024/lib/python3.12/site-packages (from matplotlib-venn) (1.13.1)\n",
      "Requirement already satisfied: contourpy>=1.0.1 in /home/amarov/anaconda3/envs/stat2024/lib/python3.12/site-packages (from matplotlib->matplotlib-venn) (1.2.0)\n",
      "Requirement already satisfied: cycler>=0.10 in /home/amarov/anaconda3/envs/stat2024/lib/python3.12/site-packages (from matplotlib->matplotlib-venn) (0.11.0)\n",
      "Requirement already satisfied: fonttools>=4.22.0 in /home/amarov/anaconda3/envs/stat2024/lib/python3.12/site-packages (from matplotlib->matplotlib-venn) (4.51.0)\n",
      "Requirement already satisfied: kiwisolver>=1.3.1 in /home/amarov/anaconda3/envs/stat2024/lib/python3.12/site-packages (from matplotlib->matplotlib-venn) (1.4.4)\n",
      "Requirement already satisfied: packaging>=20.0 in /home/amarov/anaconda3/envs/stat2024/lib/python3.12/site-packages (from matplotlib->matplotlib-venn) (24.1)\n",
      "Requirement already satisfied: pillow>=8 in /home/amarov/anaconda3/envs/stat2024/lib/python3.12/site-packages (from matplotlib->matplotlib-venn) (10.4.0)\n",
      "Requirement already satisfied: pyparsing>=2.3.1 in /home/amarov/anaconda3/envs/stat2024/lib/python3.12/site-packages (from matplotlib->matplotlib-venn) (3.1.2)\n",
      "Requirement already satisfied: python-dateutil>=2.7 in /home/amarov/anaconda3/envs/stat2024/lib/python3.12/site-packages (from matplotlib->matplotlib-venn) (2.9.0.post0)\n",
      "Requirement already satisfied: six>=1.5 in /home/amarov/anaconda3/envs/stat2024/lib/python3.12/site-packages (from python-dateutil>=2.7->matplotlib->matplotlib-venn) (1.16.0)\n",
      "Note: you may need to restart the kernel to use updated packages.\n"
     ]
    }
   ],
   "source": [
    "#| echo: false\n",
    "#| output: false\n",
    "\n",
    "%pip install matplotlib-venn\n",
    "\n",
    "import matplotlib.pyplot as plt\n",
    "import numpy as np\n",
    "from matplotlib_venn import venn2, venn3"
   ]
  },
  {
   "cell_type": "markdown",
   "id": "748f8497",
   "metadata": {},
   "source": [
    "# Probability\n",
    "\n",
    "[Open in Colab](https://colab.research.google.com/github/febse/stat2024/blob/main/03-Probability.ipynb)\n",
    "\n",
    "Let us start with the definition of probability. We will return to it later in much more detail.\n",
    "\n",
    ":::{#def-probability}\n",
    "## Probability\n",
    "\n",
    "A probability law is a function that assigns a number between 0 and 1 to each (measurable) event in the sample space. Let $\\Omega$ be a non-empty set and\n",
    "let $A$ and $B$ be subsets of $\\Omega$. A probability law must satisfy the following properties:\n",
    "\n",
    "1. $P(A) \\geq 0$ for all $A \\subseteq \\Omega$ (all events have non-negative probability).\n",
    "2. $P(\\emptyset) = 0$. (The probability of the empty set is 0).\n",
    "3. $P(\\Omega) = 1$. (The probability of the entire sample space is 1).\n",
    "4. If $A$ and $B$ are disjoint, i.e. $A \\cap B = \\emptyset$, then $P(A \\cup B) = P(A) + P(B)$.\n",
    "\n",
    ":::\n",
    "\n",
    "In the following, we will discuss the key terms in the definition of probability.\n"
   ]
  },
  {
   "cell_type": "markdown",
   "id": "4279265c",
   "metadata": {},
   "source": [
    "\n",
    "## Sets\n",
    "\n",
    "As you can see the definition of probability heavily relies on the concept of sets. A set is a collection of distinct objects, considered as an object in its own right. We will use capital letters to denote sets, and the elements of a set will be denoted by lowercase letters.\n",
    "\n",
    "There are a couple of important set operations that we will use in the context of probability:\n",
    "\n",
    "1. **Union**: The union of two sets $A$ and $B$ is the set of elements that are in $A$, in $B$, or in both. The union of $A$ and $B$ is denoted by $A \\cup B$.\n",
    "2. **Intersection**: The intersection of two sets $A$ and $B$ is the set of elements that are in both $A$ and $B$. The intersection of $A$ and $B$ is denoted by $A \\cap B$.\n",
    "3. **Complement**: The complement of a set $A$ is the set of elements that are not in $A$. The complement of $A$ is denoted by $A^c$ (or sometimes $\\bar{A}$).\n",
    "4. **Difference**: The difference of two sets $A$ and $B$ is the set of elements that are in $A$ but not in $B$. The difference of $A$ and $B$ is denoted by $A \\setminus B$.\n",
    "\n",
    ":::{#def-emptyset}\n",
    "## The Empty Set\n",
    "\n",
    "The empty set is a special set that contains no elements. It is denoted by $\\emptyset$ or $\\{\\}$.\n",
    "\n",
    ":::\n",
    "\n",
    ":::{#def-disjoint}\n",
    "## Disjoint sets\n",
    "\n",
    "Two sets are called disjoint if their intersection is the empty set, i.e. $A \\cap B = \\emptyset$. This means that the sets do not have any elements in common.\n",
    "\n",
    ":::\n",
    "\n",
    "\n",
    "The union and intersection of sets are _commutative_ and _distributive_. Commutative means that you can change the order of the sets without changing the result.\n",
    "\n",
    "- For example, $A \\cup B = B \\cup A$.\n",
    "- For example, $A \\cap B = B \\cap A$.\n",
    "\n",
    "Distributive means that you can distribute the union or intersection over the other set.\n",
    "\n",
    "- For example, $A \\cup (B \\cap C) = (A \\cup B) \\cap (A \\cup C)$.\n",
    "- For example, $A \\cap (B \\cup C) = (A \\cap B) \\cup (A \\cap C)$.\n",
    "\n",
    ":::{#thm-de-morgan}\n",
    "## De Morgan's Laws\n",
    "\n",
    "De Morgan's laws are a pair of rules that relate the complement of the union and the intersection of sets.\n",
    "\n",
    "1. The complement of the union of two sets is the intersection of their complements: $(A \\cup B)^c = A^c \\cap B^c$.\n",
    "2. The complement of the intersection of two sets is the union of their complements: $(A \\cap B)^c = A^c \\cup B^c$.\n",
    "\n",
    "This also generalizes to more than two sets.\n",
    "\n",
    "Let $A_1$, $A_2$, $\\ldots$, $A_n$ be sets. Then,\n",
    "\n",
    "1. The complement of the union of the sets is the intersection of their complements: \n",
    "\n",
    "$$\n",
    "(\\cup_{i=1}^n A_i)^c = \\cap_{i=1}^n A_i^c\n",
    "$$.\n",
    "\n",
    "2. The complement of the intersection of the sets is the union of their complements:\n",
    "\n",
    "$$\n",
    "(\\cap_{i=1}^n A_i)^c = \\cup_{i=1}^n A_i^c\n",
    "$$.\n",
    "\n",
    ":::"
   ]
  },
  {
   "cell_type": "code",
   "execution_count": 3,
   "id": "aa6692d2",
   "metadata": {},
   "outputs": [
    {
     "data": {
      "text/plain": [
       "<matplotlib_venn._common.VennDiagram at 0x7f60517a0110>"
      ]
     },
     "execution_count": 3,
     "metadata": {},
     "output_type": "execute_result"
    },
    {
     "data": {
      "image/png": "[encoded data removed]",
      "text/plain": [
       "<Figure size 640x480 with 1 Axes>"
      ]
     },
     "metadata": {},
     "output_type": "display_data"
    }
   ],
   "source": [
    "#| label: fig-venn-intersecting\n",
    "#| fig-cap: \"Two sets intersecting\"\n",
    "\n",
    "venn2([\n",
    "    set(['1', '2', '3', '4']), \n",
    "    set(['2', '5', '6'])\n",
    "    ], \n",
    "    set_labels=[\"A\", \"B\"]\n",
    ")\n"
   ]
  },
  {
   "cell_type": "code",
   "execution_count": 4,
   "id": "13df86a7",
   "metadata": {},
   "outputs": [
    {
     "data": {
      "text/plain": [
       "<matplotlib_venn._common.VennDiagram at 0x7f6050bec6b0>"
      ]
     },
     "execution_count": 4,
     "metadata": {},
     "output_type": "execute_result"
    },
    {
     "data": {
      "image/png": "[encoded data removed]",
      "text/plain": [
       "<Figure size 640x480 with 1 Axes>"
      ]
     },
     "metadata": {},
     "output_type": "display_data"
    }
   ],
   "source": [
    "#| label: fig-venn-disjoint\n",
    "#| fig-cap: \"Two disjoint sets\"\n",
    "\n",
    "venn2([\n",
    "    set(['1', '2', '3', '4']), \n",
    "    set(['5', '6', '7'])\n",
    "    ],\n",
    "    set_labels=[\"C\", \"D\"]\n",
    ")\n"
   ]
  },
  {
   "cell_type": "markdown",
   "id": "0b68a5f1",
   "metadata": {},
   "source": [
    ":::{#exr-de-morgan}\n",
    "## De Morgan's Laws\n",
    "\n",
    "Use the sets from the Venn diagram in @fig-venn-intersecting to show the validity of De Morgan's laws.\n",
    "\n",
    "- The first set is $A = \\{1, 2, 3, 4\\}$\n",
    "- The second set is $B = \\{2, 5, 6\\}$\n",
    "\n",
    "- Write down the complements of $A$ and $B$ and the intersection of $A$ and $B$. \n",
    "- Then, write down the union of $A$ and $B$ and its complement. Compare the results.\n",
    "\n",
    ":::"
   ]
  },
  {
   "cell_type": "markdown",
   "id": "3725f9d5",
   "metadata": {},
   "source": [
    ":::{#exr-de-morgan-2}\n",
    "\n",
    "A consumer survey indicates that 60 percent of the customers will buy product A, 70 percent will buy product B, and 40 percent will buy both products. What is the probability that a randomly selected customer will buy neither product A nor product B?\n",
    "\n",
    ":::"
   ]
  },
  {
   "cell_type": "markdown",
   "id": "23eae4c0",
   "metadata": {},
   "source": [
    "## The Sample Space\n",
    "\n",
    "Consider a couple of simple experiments with a random outcome\n",
    "\n",
    "- The classic example is flipping a coin once: the outcomes can be either heads or tails.\n",
    "- Another example is rolling a die: the outcomes can be any of the numbers 1, 2, 3, 4, 5, or 6.\n",
    "\n",
    "The sample space of the experiment is the set of _all_ possible outcomes. For the coin flip, the sample space is $\\{H, T\\}$, and for the die roll, the sample space is $\\{1, 2, 3, 4, 5, 6\\}$. These are very easy examples, but depending on the experiment, the sample space can be much more complex.\n",
    "\n",
    "There are a couple of rules that the sample space must follow:\n",
    "\n",
    "1. The sample space must be **exhaustive**: it must contain all possible outcomes. For example, if you are flipping a coin, the sample space must include both heads and tails: a sample space of $\\{H\\}$ would not be exhaustive.\n",
    "2. The elements of the sample space must be **mutually exclusive**: when the experiment is performed, only _one_ of the elements of $\\Omega$ can occur.\n",
    "\n"
   ]
  },
  {
   "cell_type": "markdown",
   "id": "5b7097db",
   "metadata": {},
   "source": [
    "\n",
    "## Events and Probability\n",
    "\n",
    "An event is a subset of the sample space. For example, if you are flipping a coin, the event of getting heads is the subset $\\{H\\}$ of the sample space $\\{H, T\\}$. If you are rolling a die, the event of getting an even number is the subset $\\{2, 4, 6\\}$ of the sample space $\\{1, 2, 3, 4, 5, 6\\}$.\n",
    "\n",
    "In experiments with a **finite number of equally likely outcomes**, the probability of an event is the number of outcomes in the event divided by the total number of outcomes in the sample space. For example, the probability of getting heads when flipping a coin is $1/2$ because there is one outcome in the event $\\{H\\}$ and two outcomes in the sample space $\\{H, T\\}$. The probability of getting an even number when rolling a die is $3/6 = 1/2$ because there are three outcomes in the event $\\{2, 4, 6\\}$ and six outcomes in the sample space $\\{1, 2, 3, 4, 5, 6\\}$.\n",
    "\n",
    "\n",
    "$$\n",
    "P(A) = \\frac{\\text{number of elements in } A}{\\text{number of elements in the sample space}}\n",
    "$$\n"
   ]
  },
  {
   "cell_type": "markdown",
   "id": "c4eed904",
   "metadata": {},
   "source": [
    "## Some Properties of Probability Laws\n",
    "\n",
    "The definition of probability appears simple, but we will see that we can derive surprisingly many properties from it.\n",
    "\n",
    "The probability of the union of two events is the sum of the probabilities of the events minus the probability of their intersection.\n",
    "\n",
    ":::{#thm-probability-union}\n",
    "## Probability of the Union of Two Events\n",
    "\n",
    "$$\n",
    "P(A \\cup B) = P(A) + P(B) - P(A \\cap B)\n",
    "$$\n",
    "\n",
    ":::\n",
    "\n",
    "\n",
    ":::{#thm-probability-of-complement}\n",
    "## Probability of the Complement\n",
    "\n",
    "The probability of an event is one minus the probability of the complement of the event.\n",
    "\n",
    "$$\n",
    "P(A) = 1 - P(A^c)\n",
    "$$\n",
    ":::\n",
    ":::{.proof}\n",
    "This follows directly from the definition of probability and the fact that $A \\cap A^c = \\emptyset$ and $A \\cup A^c = \\Omega$.\n",
    "\n",
    "$$\n",
    "P(A \\cup A^c) = P(\\Omega) = 1 \\implies P(A) + P(A^c) = 1\n",
    "$$\n",
    ":::\n",
    "\n",
    "\n",
    "For a justification of this formula, consider the Venn diagram in @fig-venn-intersecting. The probability of the union of the two events is the sum of the probabilities of the two events. However, the intersection of the two events is counted twice, so we need to subtract it once.\n",
    "\n",
    "Use the following Venn diagram to show the validity of the formula.\n",
    "\n",
    "$$\n",
    "P(A \\cup B \\cup C) = P(A) + P(A^c \\cap B) + P(A^c \\cap B^c \\cap C)\n",
    "$$\n"
   ]
  },
  {
   "cell_type": "code",
   "execution_count": 5,
   "id": "0b257452",
   "metadata": {},
   "outputs": [
    {
     "data": {
      "text/plain": [
       "<matplotlib_venn._common.VennDiagram at 0x7f6050bee1b0>"
      ]
     },
     "execution_count": 5,
     "metadata": {},
     "output_type": "execute_result"
    },
    {
     "data": {
      "image/png": "[encoded data removed]",
      "text/plain": [
       "<Figure size 640x480 with 1 Axes>"
      ]
     },
     "metadata": {},
     "output_type": "display_data"
    }
   ],
   "source": [
    "#| label: fig-venn-three-intersecting\n",
    "#| fig-cap: \"Three sets intersecting. The values shown within the sets are the number of elements in each set.\"\n",
    "\n",
    "venn3((\n",
    "    set(['1', '2', '3', '4', '9']), \n",
    "    set(['3', '5', '6', '7', '9']), \n",
    "    set(['2', '3', '5', '8'])),\n",
    "    set_labels=[\"A\", \"B\", \"C\"]\n",
    ")"
   ]
  },
  {
   "cell_type": "markdown",
   "id": "e743a9da",
   "metadata": {},
   "source": [
    "\n",
    "\n",
    "## Discrete Sample Spaces\n",
    "\n",
    "A sample space is discrete if it consists of a finite or countably infinite number of outcomes. For example, the sample space of rolling a die is discrete because there are only six possible outcomes. The sample space of flipping a coin is also discrete because there are only two possible outcomes. The number of accidents in a day is also a discrete sample space because it can only take on integer values (which are countably infinite). The sample space of selecting a real number between 0 and 1 (or any other real interval) is not discrete because there are uncountably many possible outcomes (Cantor's theorem).\n"
   ]
  },
  {
   "cell_type": "markdown",
   "id": "cb0bff1c",
   "metadata": {},
   "source": [
    ":::{#exr-sample-space-coin}\n",
    "## The Sample Space of Three Coin Flips\n",
    "\n",
    "Consider an experiment of flipping a coin three times (each toss can result either in a head (H) or in a tail (T) ). \n",
    "\n",
    "- Write down the sample space of the experiment.\n",
    "- Write down the set $A$ consisting of all outcomes where the first flip is a head.\n",
    "- Write down the set $B$ consisting of all outcomes where the number of heads is even.\n",
    "- Assume that the coin is fair and that all outcomes are equally likely. What are the probabilities of the events $A$ and $B$?\n",
    ":::\n"
   ]
  },
  {
   "cell_type": "code",
   "execution_count": 6,
   "id": "87af81de",
   "metadata": {},
   "outputs": [
    {
     "data": {
      "text/plain": [
       "array([[0, 1, 1],\n",
       "       [0, 0, 1],\n",
       "       [0, 0, 1],\n",
       "       [0, 1, 1],\n",
       "       [0, 0, 0],\n",
       "       [0, 0, 1],\n",
       "       [0, 0, 1],\n",
       "       [0, 1, 0],\n",
       "       [1, 1, 1],\n",
       "       [1, 1, 0]])"
      ]
     },
     "execution_count": 6,
     "metadata": {},
     "output_type": "execute_result"
    }
   ],
   "source": [
    "# A coin flipping game\n",
    "\n",
    "# Here we simulate the result of 3 coin flips repeated 10 times (1 for heads, 0 for tails)\n",
    "# np.random.choice selects a value at random from the given list\n",
    "# The size specifies the number of times the selection is made\n",
    "# In our case, we are selecting 3 values 10 times and storing the results in coin_results\n",
    "\n",
    "coin_3flips = np.random.choice([1, 0], size=[10, 3])\n",
    "coin_3flips"
   ]
  },
  {
   "cell_type": "code",
   "execution_count": 7,
   "id": "e7441b1b",
   "metadata": {},
   "outputs": [
    {
     "data": {
      "text/plain": [
       "(10, 3)"
      ]
     },
     "execution_count": 7,
     "metadata": {},
     "output_type": "execute_result"
    }
   ],
   "source": [
    "# Check the shape of the coin_results array, it should be (10, 3), the same as the size we specified\n",
    "\n",
    "coin_3flips.shape"
   ]
  },
  {
   "cell_type": "code",
   "execution_count": 8,
   "id": "acb7247e",
   "metadata": {},
   "outputs": [
    {
     "data": {
      "text/plain": [
       "2"
      ]
     },
     "execution_count": 8,
     "metadata": {},
     "output_type": "execute_result"
    }
   ],
   "source": [
    "# The _number_ of games where the first coin landed on heads (1) in each of the 10 games\n",
    "# - We select the first column of the matrix (coin_results[:, 0]), because the first coin flip is stored in the first column\n",
    "# - We then check how many times the value 1 appears in the first column\n",
    "# - The sum() function is used to count the number of times the value 1 appears in the first column\n",
    "\n",
    "(coin_3flips[:, 0] == 1).sum()"
   ]
  },
  {
   "cell_type": "code",
   "execution_count": 9,
   "id": "4e1b3e4e",
   "metadata": {},
   "outputs": [
    {
     "data": {
      "text/plain": [
       "0.4"
      ]
     },
     "execution_count": 9,
     "metadata": {},
     "output_type": "execute_result"
    }
   ],
   "source": [
    "# The _proportion_ of games where the number of heads in each game is even\n",
    "\n",
    "(coin_3flips.sum(axis=1) % 2 == 0).mean()"
   ]
  },
  {
   "cell_type": "markdown",
   "id": "f5e48d39",
   "metadata": {},
   "source": [
    ":::{#exr-sample-space-die}\n",
    "## The Sample Space of Two Die Rolls\n",
    "\n",
    "Consider an experiment of rolling a four sided die twice.\n",
    "\n",
    "![Four sided die](https://upload.wikimedia.org/wikipedia/commons/8/80/Dald%C3%B8s_dice.jpg){style=\"width:300px\"}\n",
    "\n",
    "- Write down the sample space of the experiment.\n",
    "- How many outcomes are in the sample space?\n",
    "- Write down the set (event) $A$ consisting of all outcomes where the sum of the two rolls is 7.\n",
    "- Write down the set (event) $B$ consisting of all outcomes where the sum of the two rolls is odd.\n",
    "- Write down the set (event) $C$ consisting of all outcomes where the first roll is greater than the second roll.\n",
    "- Write down the set (event) $D$ consisting of all outcomes where the two rolls are the same.\n",
    "\n",
    "Assume that the die is fair and that all outcomes are equally likely. \n",
    "- What are the probability of the events $A$ and $B$: $P(A)$ and $P(B)$?\n",
    "- What is the probability of the event $A \\cap B$?\n",
    "- What is the probability of the event $A \\cup B$?\n",
    "- What is the probability of the event $A^c$?\n",
    "- What is the probability of the event $A \\cap C$?\n",
    "\n",
    ":::"
   ]
  },
  {
   "cell_type": "code",
   "execution_count": 10,
   "id": "1d952073",
   "metadata": {},
   "outputs": [
    {
     "data": {
      "text/plain": [
       "array([[4, 2],\n",
       "       [2, 2],\n",
       "       [3, 2],\n",
       "       [1, 3],\n",
       "       [4, 1],\n",
       "       [2, 1],\n",
       "       [4, 1],\n",
       "       [3, 2],\n",
       "       [2, 4],\n",
       "       [2, 1]])"
      ]
     },
     "execution_count": 10,
     "metadata": {},
     "output_type": "execute_result"
    }
   ],
   "source": [
    "# Simulation of 10 rolls of a four-sided die\n",
    "\n",
    "die_rolls = np.random.choice([1, 2, 3, 4], size=[10, 2])\n",
    "die_rolls"
   ]
  },
  {
   "cell_type": "code",
   "execution_count": 11,
   "id": "bdd06cde",
   "metadata": {},
   "outputs": [
    {
     "data": {
      "text/plain": [
       "array([False, False, False, False, False, False, False, False, False,\n",
       "       False])"
      ]
     },
     "execution_count": 11,
     "metadata": {},
     "output_type": "execute_result"
    }
   ],
   "source": [
    "# Event A: sum of the two rolls is greater than 7\n",
    "# - we can sum the values in each row to get the total of the two rolls: this is what die_rolls.sum(axis=1). The axes in the arrays are indexed: 0 for rows and 1 for columns\n",
    "# - The == operator checks if the sum is equal to 7 and returns a boolean array (True and False)\n",
    "\n",
    "event_A = (die_rolls.sum(axis=1) == 7)\n",
    "event_A"
   ]
  },
  {
   "cell_type": "code",
   "execution_count": 12,
   "id": "bb752355",
   "metadata": {},
   "outputs": [
    {
     "data": {
      "text/plain": [
       "array([False, False,  True, False,  True,  True,  True,  True, False,\n",
       "        True])"
      ]
     },
     "execution_count": 12,
     "metadata": {},
     "output_type": "execute_result"
    }
   ],
   "source": [
    "# Event B: sum of the two rolls is odd (the != operator checks for inequality)\n",
    "# - as in the previous cell, we sum the values in each row to get the total of the two rolls\n",
    "# - % is the modulo operator. If the sum is even, the modulo of 2 will be 0, and if it is odd, the modulo will be 1\n",
    "# - the != operator checks if the modulo is different from zero and returns a boolean array (True and False)\n",
    "\n",
    "event_B = (die_rolls.sum(axis=1) % 2 != 0)\n",
    "event_B"
   ]
  },
  {
   "cell_type": "code",
   "execution_count": 13,
   "id": "4a73afbb",
   "metadata": {},
   "outputs": [
    {
     "data": {
      "text/plain": [
       "array([ True, False,  True, False,  True,  True,  True,  True, False,\n",
       "        True])"
      ]
     },
     "execution_count": 13,
     "metadata": {},
     "output_type": "execute_result"
    }
   ],
   "source": [
    "# Event C: first roll is greater than the second roll.\n",
    "# - the square brackets after the array are used to select parts of the array. The : operator selects all the elements in the array (in this case, all the rows)\n",
    "# - after a comma we can specify the column we want to select. The first column has index 0 and the second column has index 1\n",
    "# - the > operator checks if the value in the first column is greater than the value in the second column and returns a boolean array (True and False)\n",
    "\n",
    "event_C = (die_rolls[:, 0] > die_rolls[:, 1])\n",
    "event_C"
   ]
  },
  {
   "cell_type": "code",
   "execution_count": 14,
   "id": "659d2ae3",
   "metadata": {},
   "outputs": [
    {
     "data": {
      "text/plain": [
       "array([False,  True, False, False, False, False, False, False, False,\n",
       "       False])"
      ]
     },
     "execution_count": 14,
     "metadata": {},
     "output_type": "execute_result"
    }
   ],
   "source": [
    "# Event D: $D$ the two rolls are the same.\n",
    "# Exactly as before, but here we check for equality using the == operator\n",
    "\n",
    "event_D = (die_rolls[:, 0] == die_rolls[:, 1])\n",
    "event_D"
   ]
  },
  {
   "cell_type": "code",
   "execution_count": 15,
   "id": "12f2e791",
   "metadata": {},
   "outputs": [
    {
     "data": {
      "text/plain": [
       "0"
      ]
     },
     "execution_count": 15,
     "metadata": {},
     "output_type": "execute_result"
    }
   ],
   "source": [
    "# The intersection of A and B (A and B occurring together)\n",
    "# - The & operator is used to combine two boolean arrays. It returns a new boolean array where the value is True only if both arrays have True in the same position\n",
    "\n",
    "event_A_and_B = event_A & event_B\n",
    "event_A_and_B.sum()"
   ]
  },
  {
   "cell_type": "markdown",
   "id": "e6be3aa9",
   "metadata": {},
   "source": [
    "## Exercises\n",
    "\n",
    "\n",
    ":::{#exr-racing}\n",
    "## Racing Cars and Betting\n",
    "\n",
    "Consider a car race with 6 cars. You believe that the probability of winning is equal for the first three cars, and the probabilities of winning for cars 4, 5, and 6 are equal to 1/7. You must place a bet on one of the following two events:\n",
    "\n",
    "- One of cars 1, 2, or 5 wins\n",
    "- One of cars 3, 5, or 6 wins\n",
    "\n",
    "Which event would you bet on? Justify your answer. The reward is the same for both events.\n",
    ":::\n"
   ]
  },
  {
   "cell_type": "markdown",
   "id": "b0a096ca",
   "metadata": {},
   "source": [
    ":::{#exr-probability-customers}\n",
    "## Student Enrollment\n",
    "\n",
    "A total of 36 students in a class are enrolled in a statistics course, 28 in microeconomics, and 18 in an macroeconomics course. Furthermore, 22 of the students study both statistics and microeconomics, 12 study both statistics and macroeconomics, 9 study both microeconomics and macroeconomics, and 4 are enrolled in all three courses. You select a student at random. What is the probability that the student is enrolled in at least one of the courses?\n",
    "\n",
    ":::\n"
   ]
  },
  {
   "cell_type": "markdown",
   "id": "14bc1403",
   "metadata": {},
   "source": [
    "\n",
    ":::{#exr-dice-rolls-until-4}\n",
    "## Dice Rolls Until 2\n",
    "\n",
    "You take a four-sided die and roll it until you get a 2. Describe the sample space of the experiment.\n",
    "\n",
    ":::"
   ]
  },
  {
   "cell_type": "markdown",
   "id": "8dae6746",
   "metadata": {},
   "source": [
    ":::{#exr-probability-model}\n",
    "## Probability Model\n",
    "\n",
    "You are given a loaded four-sided die. The even numbers are twice as likely as the odd numbers, but the \n",
    "each even number is equally likely and each odd number is equally likely. Construct a probability model for this die.\n",
    "\n",
    ":::"
   ]
  },
  {
   "cell_type": "markdown",
   "id": "04d61523",
   "metadata": {},
   "source": [
    "\n",
    ":::{#exr-bonferroni}\n",
    "## Bonferroni's Inequalities\n",
    "\n",
    "Let $A$ and $B$ be two events. Show that\n",
    "\n",
    "$$\n",
    "P(A \\cap B) \\geq P(A) + P(B) - 1\n",
    "$$\n",
    "\n",
    "Also, let $A_1, A_2, \\ldots, A_n$ be a sequence of events. Show that\n",
    "\n",
    "$$\n",
    "P(\\cap_{i=1}^n A_i) \\geq \\sum_{i=1}^n P(A_i) - n + 1\n",
    "$$\n",
    "\n",
    ":::"
   ]
  },
  {
   "cell_type": "markdown",
   "id": "91ae9071",
   "metadata": {},
   "source": [
    ":::{#def-partition}\n",
    "## Partition\n",
    "\n",
    "Let $\\Omega$ be a set. A sequence of disjoint subsets of $\\Omega$, $A_1, A_2, \\ldots, A_n$, is called a partition of $\\Omega$ if their union is $\\Omega$, i.e. \n",
    "\n",
    "$$\n",
    "A_1 \\cup A_2 \\cup \\ldots \\cup A_n = \\Omega\n",
    "$$.\n",
    ":::\n",
    "\n",
    ":::{#exr-partition}\n",
    "## Partition\n",
    "\n",
    "If $A_1, A_2, \\ldots, A_n$ is a partition of $\\Omega$, then argue why for any subset $B$ in $\\Omega$, we have\n",
    "\n",
    "$$\n",
    "B = B \\cap \\Omega = B \\cap (A_1 \\cup A_2 \\cup \\ldots \\cup A_n) = (B \\cap A_1) \\cup (B \\cap A_2) \\cup \\ldots \\cup (B \\cap A_n)\n",
    "$$.\n",
    "\n",
    ":::\n",
    "\n",
    ":::{#exr-probability}\n",
    "\n",
    "\n",
    "Let $A$ and $B$ be two sets. Describe the set $(A \\cap B^c) \\cup (A^c \\cap B)$ in words and use a Venn diagram to illustrate it. Use the Venn diagram to explain why the following formula holds:\n",
    "\n",
    "$$\n",
    "P((A \\cap B^c) \\cup (A^c \\cap B)) = P(A) + P(B) -2 P(A \\cap B),\n",
    "$$\n",
    ":::"
   ]
  },
  {
   "cell_type": "markdown",
   "id": "e954213e",
   "metadata": {},
   "source": [
    ":::{#exr-simulation}\n",
    "## Dice Rolls Simulation\n",
    "\n",
    "You roll two six-sided dice 1000 times. In how many games would you expect to get a sum greater than 10?\n",
    "\n",
    "Take the example of the four-sided dice and adapt it to this case. Compute the number and the proportion of games where the sum is greater than 10.\n",
    "\n",
    ":::"
   ]
  },
  {
   "cell_type": "code",
   "execution_count": 16,
   "id": "39c4cedb",
   "metadata": {},
   "outputs": [],
   "source": [
    "# Write your code here and run it\n"
   ]
  },
  {
   "cell_type": "code",
   "execution_count": 16,
   "id": "5d90b3cb",
   "metadata": {},
   "outputs": [],
   "source": []
  },
  {
   "cell_type": "markdown",
   "id": "07004d25",
   "metadata": {},
   "source": [
    "## Further Reading\n",
    "\n",
    "Some results in probability theory can be confusing and counter-intuitive. A classic example is the matching problem. Consider a room with $n$ dancing couples. If the couples are randomly paired, what is the probability that after the pairing, no one is matched with their original partner? The answer is not zero, but it is also not one. \n",
    "\n",
    "Here we will approach the problem through a simulation. We will randomly pair the couples and count the number of times no one is matched with their original partner. We will then compare the simulation results with the theoretical results."
   ]
  },
  {
   "cell_type": "code",
   "execution_count": 65,
   "id": "f98172a5",
   "metadata": {},
   "outputs": [
    {
     "data": {
      "text/plain": [
       "0.36"
      ]
     },
     "execution_count": 65,
     "metadata": {},
     "output_type": "execute_result"
    }
   ],
   "source": [
    "# NOTE: code for illustration purposes only\n",
    "\n",
    "n = 300 # Number of pairs\n",
    "R = 1000 # Number of simulations\n",
    "\n",
    "partners = np.arange(n)\n",
    "new_partners = np.array([np.random.permutation(partners) for _ in range(R)])\n",
    "\n",
    "np.apply_along_axis(lambda x: (x == partners).sum() == 0, 1, new_partners).mean()"
   ]
  }
 ],
 "metadata": {
  "kernelspec": {
   "display_name": "stat2024",
   "language": "python",
   "name": "python3"
  },
  "language_info": {
   "codemirror_mode": {
    "name": "ipython",
    "version": 3
   },
   "file_extension": ".py",
   "mimetype": "text/x-python",
   "name": "python",
   "nbconvert_exporter": "python",
   "pygments_lexer": "ipython3",
   "version": "3.12.5"
  }
 },
 "nbformat": 4,
 "nbformat_minor": 5
}
