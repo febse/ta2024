{
 "cells": [
  {
   "cell_type": "code",
   "execution_count": 2,
   "metadata": {},
   "outputs": [
    {
     "name": "stderr",
     "output_type": "stream",
     "text": [
      "/tmp/ipykernel_11442/2400937917.py:7: DeprecationWarning: `set_matplotlib_formats` is deprecated since IPython 7.23, directly use `matplotlib_inline.backend_inline.set_matplotlib_formats()`\n",
      "  display.set_matplotlib_formats('svg')\n"
     ]
    }
   ],
   "source": [
    "import numpy as np\n",
    "import torch\n",
    "import torch.nn as nn\n",
    "import matplotlib.pyplot as plt\n",
    "from IPython import display\n",
    "\n",
    "display.set_matplotlib_formats('svg')"
   ]
  },
  {
   "cell_type": "code",
   "execution_count": null,
   "metadata": {},
   "outputs": [],
   "source": [
    "# epochsn = 1000\n",
    "# lr = 0.005\n",
    "\n",
    "# w = np.random.randn(p)\n",
    "# b = np.random.randn(1)\n",
    "\n",
    "# losses = np.zeros(epochsn * n)\n",
    "\n",
    "# for epoch in range(epochsn):\n",
    "#     epoch_loss = 0\n",
    "#     for i in range(n):\n",
    "#         y_pred = sigmoid(w.dot(X[i]) + b)\n",
    "        \n",
    "#         loss = -y[i] * np.log(y_pred) - (1 - y[i]) * np.log(1 - y_pred)\n",
    "#         epoch_loss += loss\n",
    "\n",
    "#         w_grad = (y_pred - y[i]) * X[i]\n",
    "#         b_grad = y_pred - y[i]\n",
    "        \n",
    "#         w -= lr * w_grad\n",
    "#         b -= lr * b_grad\n",
    "        \n",
    "#     losses[epoch] = epoch_loss / n\n",
    "    \n",
    "# plt.plot(losses)"
   ]
  }
 ],
 "metadata": {
  "kernelspec": {
   "display_name": "ta2024",
   "language": "python",
   "name": "python3"
  },
  "language_info": {
   "codemirror_mode": {
    "name": "ipython",
    "version": 3
   },
   "file_extension": ".py",
   "mimetype": "text/x-python",
   "name": "python",
   "nbconvert_exporter": "python",
   "pygments_lexer": "ipython3",
   "version": "3.11.10"
  }
 },
 "nbformat": 4,
 "nbformat_minor": 2
}
