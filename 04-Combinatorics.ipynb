{
 "cells": [
  {
   "cell_type": "code",
   "execution_count": 6,
   "metadata": {},
   "outputs": [],
   "source": [
    "#| echo: false\n",
    "\n",
    "import itertools\n",
    "import math\n",
    "import numpy as np"
   ]
  },
  {
   "cell_type": "markdown",
   "metadata": {},
   "source": [
    "# Combinatorics\n",
    "\n",
    "[Open in Colab](https://colab.research.google.com/github/febse/stat2024/blob/main/04-Combinatorics.ipynb)\n",
    "\n",
    "While counting things may seem simple, it can become quite when the number of things to count grows. For example, consider the following problem:\n",
    "\n",
    "As the example of the garden of forking data shows, we need to be able to count the number of ways to choose a subset of elements from a set. This is the subject of combinatorics and there are four basic formulas that we will use to solve these problems.\n",
    "\n",
    "## The Counting Principle\n",
    "\n",
    "In the garden of forking data we needed to count the number of ways a collection of three white and one blue balls could produce samples three balls, selected with replacement. \n",
    "\n",
    "The first selected ball can be any of the four balls in the box and there are four possibilities. The second selected ball can also be any of the four balls in the box and there are again four possibilities.\n",
    "\n",
    "Up to now we have a total of $4 \\times 4 = 16$ possibilities. The last selected balls can also be any of the four balls in the box and there are four possibilities. The total number of possibilities is $4 \\times 4 \\times 4 = 64$.\n",
    "\n",
    "More generally, there are $n^s$ ways to select $s$ elements from a set of $n$ elements, with replacement.\n",
    "\n",
    "Even more generally, consider a DJ who has a set of $m_s$ salsa songs, $m_b$ bachata songs and $m_r$ reggaeton songs. The DJ plans to play a set of three songs, each of a different genre. How many possible sets of songs can the DJ play?\n",
    "\n",
    "- There are $m_s$ ways to select a salsa song.\n",
    "- There are $m_b$ ways to select a bachata song.\n",
    "- There are $m_r$ ways to select a reggaeton song.\n",
    "\n",
    "The total number of possible sets of songs is $m_s \\times m_b \\times m_r$.\n"
   ]
  },
  {
   "cell_type": "code",
   "execution_count": 7,
   "metadata": {},
   "outputs": [
    {
     "data": {
      "text/plain": [
       "1600000"
      ]
     },
     "execution_count": 7,
     "metadata": {},
     "output_type": "execute_result"
    }
   ],
   "source": [
    "# An example: all possible 3-song playlists where the first sort is a salsa song, the second a bachata song, and the third a reggaeton song.\n",
    "\n",
    "m_s = 200 # Salsa songs\n",
    "m_b = 80 # Bachata songs\n",
    "m_r = 100 # Reggaeton songs\n",
    "\n",
    "m_s * m_b * m_r"
   ]
  },
  {
   "cell_type": "markdown",
   "metadata": {},
   "source": [
    "\n",
    "\n",
    "## Permutations\n",
    "\n",
    "A permutation is an arrangement of objects in a specific order. If we have a set of $n$ (distinct) objects and we want to arrange them in a specific order, there are $n!$ ways to do this. The factorial function is defined as:\n",
    "\n",
    "$$\n",
    "n! = n \\times (n-1) \\times (n-2) \\times \\ldots \\times 2 \\times 1\n",
    "$$\n",
    "\n",
    "How to explain this formula? Let's set $n = 5$ and consider a set of five songs that a DJ wants to play in sequence. The first song can be any of the five songs, the second song can be any of the remaining four songs, the third song can be any of the remaining three songs, and so on. The total number of ways to arrange the songs is $5 \\times 4 \\times 3 \\times 2 \\times 1 = 5! = 120$.\n"
   ]
  },
  {
   "cell_type": "code",
   "execution_count": 8,
   "metadata": {},
   "outputs": [
    {
     "data": {
      "text/plain": [
       "120"
      ]
     },
     "execution_count": 8,
     "metadata": {},
     "output_type": "execute_result"
    }
   ],
   "source": [
    "# To compute the factorial you can use the factorial function from the math module (which is imported here at the top of the notebook). \n",
    "\n",
    "math.factorial(5)"
   ]
  },
  {
   "cell_type": "markdown",
   "metadata": {},
   "source": [
    "\n",
    ":::{#exm-permutations}\n",
    "## Permutations\n",
    "\n",
    "You have 4 books on your shelf at home. In how many ways can you arrange them?\n",
    "\n",
    ":::\n"
   ]
  },
  {
   "cell_type": "code",
   "execution_count": 9,
   "metadata": {},
   "outputs": [
    {
     "name": "stdout",
     "output_type": "stream",
     "text": [
      "The number of possible arrangements is 3! = 3*2*1 = 6\n",
      "Check it out: 6\n",
      "All possible arrangements of the books:\n",
      "('Framed', 'Malas', 'Ellipses')\n",
      "('Framed', 'Ellipses', 'Malas')\n",
      "('Malas', 'Framed', 'Ellipses')\n",
      "('Malas', 'Ellipses', 'Framed')\n",
      "('Ellipses', 'Framed', 'Malas')\n",
      "('Ellipses', 'Malas', 'Framed')\n"
     ]
    }
   ],
   "source": [
    "# Create a list of 3 books\n",
    "\n",
    "books3 = [\"Framed\", \"Malas\", \"Ellipses\"]\n",
    "\n",
    "print(\"The number of possible arrangements is 3! = 3*2*1 = 6\")\n",
    "print(\"Check it out:\", math.factorial(3))\n",
    "\n",
    "print(\"All possible arrangements of the books:\")\n",
    "\n",
    "# NOTE: code for illustration only\n",
    "# Generate all permutations of the books in the list above and print them\n",
    "for p in itertools.permutations(books3):\n",
    "    print(p)\n"
   ]
  },
  {
   "cell_type": "code",
   "execution_count": 10,
   "metadata": {},
   "outputs": [
    {
     "name": "stdout",
     "output_type": "stream",
     "text": [
      "The number of possible arrangements is 4! = 4*3*2*1 = 24\n",
      "Compare it with the result from math.factorial: 24\n",
      "All possible arrangements of the books:\n",
      "('Framed', 'Malas', 'Ellipses', 'Beautiful Days')\n",
      "('Framed', 'Malas', 'Beautiful Days', 'Ellipses')\n",
      "('Framed', 'Ellipses', 'Malas', 'Beautiful Days')\n",
      "('Framed', 'Ellipses', 'Beautiful Days', 'Malas')\n",
      "('Framed', 'Beautiful Days', 'Malas', 'Ellipses')\n",
      "('Framed', 'Beautiful Days', 'Ellipses', 'Malas')\n",
      "('Malas', 'Framed', 'Ellipses', 'Beautiful Days')\n",
      "('Malas', 'Framed', 'Beautiful Days', 'Ellipses')\n",
      "('Malas', 'Ellipses', 'Framed', 'Beautiful Days')\n",
      "('Malas', 'Ellipses', 'Beautiful Days', 'Framed')\n",
      "('Malas', 'Beautiful Days', 'Framed', 'Ellipses')\n",
      "('Malas', 'Beautiful Days', 'Ellipses', 'Framed')\n",
      "('Ellipses', 'Framed', 'Malas', 'Beautiful Days')\n",
      "('Ellipses', 'Framed', 'Beautiful Days', 'Malas')\n",
      "('Ellipses', 'Malas', 'Framed', 'Beautiful Days')\n",
      "('Ellipses', 'Malas', 'Beautiful Days', 'Framed')\n",
      "('Ellipses', 'Beautiful Days', 'Framed', 'Malas')\n",
      "('Ellipses', 'Beautiful Days', 'Malas', 'Framed')\n",
      "('Beautiful Days', 'Framed', 'Malas', 'Ellipses')\n",
      "('Beautiful Days', 'Framed', 'Ellipses', 'Malas')\n",
      "('Beautiful Days', 'Malas', 'Framed', 'Ellipses')\n",
      "('Beautiful Days', 'Malas', 'Ellipses', 'Framed')\n",
      "('Beautiful Days', 'Ellipses', 'Framed', 'Malas')\n",
      "('Beautiful Days', 'Ellipses', 'Malas', 'Framed')\n"
     ]
    }
   ],
   "source": [
    "# We can repeat this for a list of 4 books\n",
    "\n",
    "books4 = [\"Framed\", \"Malas\", \"Ellipses\", \"Beautiful Days\"]\n",
    "\n",
    "print(\"The number of possible arrangements is 4! = 4*3*2*1 = 24\")\n",
    "print(\"Compare it with the result from math.factorial:\", math.factorial(4))\n",
    "\n",
    "print(\"All possible arrangements of the books:\")\n",
    "\n",
    "# NOTE: # NOTE: code for illustration only\n",
    "for p in itertools.permutations(books4):\n",
    "    print(p)"
   ]
  },
  {
   "cell_type": "markdown",
   "metadata": {},
   "source": [
    ":::{#exr-permutations}\n",
    "## Permutations\n",
    "\n",
    "A small company has 16 employees. They want to line up for a group photo. In how many ways can they arrange themselves?\n",
    "\n",
    ":::"
   ]
  },
  {
   "cell_type": "code",
   "execution_count": 11,
   "metadata": {},
   "outputs": [
    {
     "data": {
      "text/plain": [
       "20922789888000"
      ]
     },
     "execution_count": 11,
     "metadata": {},
     "output_type": "execute_result"
    }
   ],
   "source": [
    "math.factorial(16)"
   ]
  },
  {
   "cell_type": "code",
   "execution_count": 12,
   "metadata": {},
   "outputs": [
    {
     "name": "stdout",
     "output_type": "stream",
     "text": [
      "20,922,789,888,000\n",
      "2.092279e+13\n"
     ]
    }
   ],
   "source": [
    "# NOTE: code for illustration only. The code here only prettifies the large number (16!) so that we can read it more easily. You don't need to remember the syntax.\n",
    "\n",
    "print(f\"{math.factorial(16):,}\")\n",
    "print(f\"{math.factorial(16):e}\")"
   ]
  },
  {
   "cell_type": "code",
   "execution_count": 13,
   "metadata": {},
   "outputs": [
    {
     "data": {
      "text/plain": [
       "6634573.150684931"
      ]
     },
     "execution_count": 13,
     "metadata": {},
     "output_type": "execute_result"
    }
   ],
   "source": [
    "# To make some sense of this large number, let's say that the employees are very fast and can \n",
    "# make a photo of each arrangement 10 milliseconds. How many years would it take to make all the photos?\n",
    "\n",
    "10 * math.factorial(16) / 60 / 60 / 24 / 365"
   ]
  },
  {
   "cell_type": "code",
   "execution_count": null,
   "metadata": {},
   "outputs": [],
   "source": []
  },
  {
   "cell_type": "code",
   "execution_count": 15,
   "metadata": {},
   "outputs": [
    {
     "name": "stdout",
     "output_type": "stream",
     "text": [
      "6.689503e+198\n"
     ]
    }
   ],
   "source": [
    "# Let's say that half of the members of parliament take a group photo. How many arrangements of 120 people are there?\n",
    "\n",
    "print(f\"{math.factorial(120):e}\")"
   ]
  },
  {
   "cell_type": "markdown",
   "metadata": {},
   "source": [
    "It is hard to imagine the magnitude of extremely large numbers such as $120!$ for example. To gain some perspective, take a look at the following short documentary (it goes to $10^{26}$).\n",
    "\n",
    "{{< video https://www.youtube.com/embed/44cv416bKP4?si=yzDHrjd0xuKCVtCm\n",
    "    title=\"Scales of the Universe in Powers of Ten\"\n",
    ">}}"
   ]
  },
  {
   "cell_type": "markdown",
   "metadata": {},
   "source": [
    "## k-permutations\n",
    "\n",
    "The empoyees of our small company decide that it would take too long to go through all the possible group photo arrangements. They decide to take a group photo with only 5 employees. In how many ways can they arrange themselves?\n",
    "\n",
    "Again, think about the group photo as having five slots. The first slot can be filled by any of the 16 employees, the second slot can be filled by any of the remaining 15 employees, and so on.\n",
    "\n",
    "The total number of ways to arrange the employees is \n",
    "\n",
    "$$\n",
    "\\underbrace{16}_{\\text{Slot 1}} \\times \\underbrace{15}_{\\text{Slot 2}} \\times \\underbrace{14}_{\\text{Slot 3}} \\times \\underbrace{13}_{\\text{Slot 4}} \\times \\underbrace{12}_{\\text{Slot 5}} = 16 \\times 15 \\times 14 \\times 13 \\times 12 = 524160\n",
    "$$"
   ]
  },
  {
   "cell_type": "code",
   "execution_count": 10,
   "metadata": {},
   "outputs": [
    {
     "data": {
      "text/plain": [
       "524160"
      ]
     },
     "execution_count": 10,
     "metadata": {},
     "output_type": "execute_result"
    }
   ],
   "source": [
    "16 * 15 * 14 * 13 * 12"
   ]
  },
  {
   "cell_type": "markdown",
   "metadata": {},
   "source": [
    "More generally, we can arrange $k$ elements from a set of $n$ elements in \n",
    "\n",
    "$$ \n",
    "n \\times (n-1) \\times \\ldots \\times (n-(k - 1))\n",
    "$$\n",
    "\n",
    "ways. In the previous example we had $n = 16$ and $k = 5$.\n",
    "\n",
    "$$\n",
    "(16 - \\underbrace{0}_{5 - 5}) \\times (16 - \\underbrace{1}_{5 - 4}) \\times (16 - \\underbrace{2}_{5 - 3}) \\times (16 - \\underbrace{3}_{5 - 2}) \\times (16 - \\underbrace{4}_{5 - 1}) = 16 \\times 15 \\times 14 \\times 13 \\times 12 = 524160\n",
    "$$\n",
    "\n",
    "Usually we write this in a more compact form:\n",
    "\n",
    "$$\n",
    "\\frac{16!}{(16-5)!} = \\frac{16!}{11!} = \\frac{16 \\times 15 \\times 14 \\times 13 \\times 12 \\times \\cancel{11!}}{\\cancel{11!}}\n",
    "$$\n",
    "\n",
    "Or more generally there are \n",
    "\n",
    "$$\n",
    "\\frac{n!}{(n - k)!}\n",
    "$$\n",
    "\n",
    "ways to arrange $k$ elements from a set of $n$ elements.\n"
   ]
  },
  {
   "cell_type": "code",
   "execution_count": 11,
   "metadata": {},
   "outputs": [
    {
     "data": {
      "text/plain": [
       "524160.0"
      ]
     },
     "execution_count": 11,
     "metadata": {},
     "output_type": "execute_result"
    }
   ],
   "source": [
    "math.factorial(16) / math.factorial(11)"
   ]
  },
  {
   "cell_type": "markdown",
   "metadata": {},
   "source": [
    "## Combinations\n",
    "\n",
    "There are occasions when we are not interested in the order of the elements in a subset. For example, the employees of the small company may not care about the order in which they are arranged in the group photo, only that they are in the photo. How many arrangements are there?\n",
    "\n",
    "We computed that there are $524160$ ways to arrange the employees in the group photo of 5 persons. However, some of these arrangements only differ in the order of the employees. For example, the arrangements \n",
    "\n",
    "$$\n",
    "\\begin{align*}\n",
    "(A,B,C,D,E) \\\\\n",
    "(B,A,C,D,E)\n",
    "\\end{align*}\n",
    "$$\n",
    "\n",
    "are the same for the purpose of the group photo (both have the same employees, only in a different order).\n",
    "\n",
    "For a group of 5 persons, there are $5! = 120$ ways to arrange the employees. This means that there are $524160 / 120 = 4368$ ways to arrange the employees in the group photo.\n",
    "\n",
    "More generally, the number of ways to select $k$ elements from a set of $n$ elements, without replacement and without regard to order:\n",
    "\n",
    "$$\n",
    "\\frac{n!}{k!(n-k)!} = \\binom{n}{k}\n",
    "$$\n",
    "\n",
    "You may have seen this notation before. The symbol \n",
    "\n",
    "$$\n",
    "\\binom{n}{k}\n",
    "$$ \n",
    "\n",
    "is read as \"n choose k\" and is called a binomial coefficient or combination. In the previous example we had $n = 16$ and $k = 5$.\n"
   ]
  },
  {
   "cell_type": "code",
   "execution_count": 12,
   "metadata": {},
   "outputs": [
    {
     "data": {
      "text/plain": [
       "4368"
      ]
     },
     "execution_count": 12,
     "metadata": {},
     "output_type": "execute_result"
    }
   ],
   "source": [
    "math.comb(16, 5)"
   ]
  },
  {
   "cell_type": "code",
   "execution_count": 13,
   "metadata": {},
   "outputs": [
    {
     "data": {
      "text/plain": [
       "4368.0"
      ]
     },
     "execution_count": 13,
     "metadata": {},
     "output_type": "execute_result"
    }
   ],
   "source": [
    "math.factorial(16) / (math.factorial(5) * math.factorial(16 - 5))"
   ]
  },
  {
   "cell_type": "markdown",
   "metadata": {},
   "source": [
    "## Partitions\n",
    "\n",
    "Now that the employees of the small company have agreed to ignore the order of the persons in the photos, they decide to take a group photo with 4 employees. To avoid the injustice of some employees being left out of the photo, they decide to form four groups of 4 employees. In how many ways can they form these groups?\n",
    "\n",
    "We can approach this problem by considering the formation of groups sequentially.\n",
    "\n",
    "- For the first group, there are $\\binom{16}{4}$ ways to select four employees.\n",
    "- Four persons have already been selected, so there are $\\binom{12}{4}$ ways to select four employees for the second group.\n",
    "- Eight persons have already been selected, so there are $\\binom{8}{4}$ ways to select two students for the third group.\n",
    "- And so on.\n",
    "\n",
    "The total number of ways to form the groups is:\n",
    "\n",
    "$$\n",
    "\\binom{16}{4} \\times \\binom{12}{4} \\times \\binom{8}{4}\\times \\binom{4}{4}\n",
    "$$\n",
    "\n",
    "We can generalize this to the case where we have a set of $n$ elements that must be partitioned into $k$ groups of sizes $n_1, n_2, \\ldots, n_k$. As every element must be assigned to a group, the sum of the sizes of the groups must be equal to $n$:\n",
    "\n",
    "$$\n",
    "n_1 + n_2 + \\ldots + n_k = n\n",
    "$$\n",
    "\n",
    "The general formula for the number of ways to partition a set follow the same steps as the students example, except that now the group sizes may be different.\n",
    "\n",
    "- For the first group, there are $\\binom{n}{n_1}$ ways to select $n_1$ elements.\n",
    "- $n_1$ elements have already been selected, so there are $\\binom{n - n_1}{n_2}$ ways to select $n_2$ elements for the second group.\n",
    "- And so on.\n",
    "\n",
    "The total number of ways to partition the set is:\n",
    "\n",
    "$$\n",
    "\\binom{n}{n_1} \\times \\binom{n - n_1}{n_2} \\times \\ldots \\times \\binom{n - n_1 - n_2 - \\ldots - n_{k-1}}{n_k}\n",
    "$$\n",
    "\n",
    "We can simplify this expression as it contains many terms that cancel out:\n",
    "\n",
    "$$\n",
    "\\frac{n!}{n_1! (n - n_1)!} \\times \\frac{(n - n_1)!}{n_2! (n - n_1 - n_2)!} \\times \\frac{(n - n_1 - n_2)!}{n_3! (n - n_1 - n_2 - n_3)!} \\times \\ldots \\times \\frac{(n - n_1 - n_2 - \\ldots - n_{k-1})!}{n_k! (n - n_1 - n_2 - \\ldots - n_k)!}\n",
    "$$\n",
    "\n",
    "Notice that the denominator of the first term is the numerator of the second term, the denominator of the second term is the numerator of the third term, and so on. This means that all the terms cancel out except for the numerator of the first term and the denominator of the last term. The total number of ways to partition the set is:\n",
    "\n",
    "$$\n",
    "\\frac{n!}{n_1! \\cancel{(n - n_1)!}} \\times \\frac{\\cancel{(n - n_1)!}}{n_2! \\cancel{(n - n_1 - n_2)!}} \\times \\frac{\\cancel{(n - n_1 - n_2)!}}{n_3! \\cancel{(n - n_1 - n_2 - n_3)!}} \\times \\ldots \\times \\frac{\\cancel{(n - n_1 - n_2 - \\ldots - n_{k-1})!}}{n_k! (n - n_1 - n_2 - \\ldots - n_k)!} = \\frac{n!}{n_1! n_2! \\ldots n_k!}\n",
    "$$\n",
    "\n",
    "The term in the last denominator does not cancel out but it is equal to 1, because the group sizes must sum to $n$ and $0! = 1$ (by definition). \n",
    "\n",
    "$$\n",
    "(n - (n_1 + n_2 + \\ldots + n_k))! = 0! = 1\n",
    "$$\n",
    "\n",
    "This means that the total number of ways to partition the set is:\n",
    "\n",
    "$$\n",
    "\\frac{n!}{n_1! n_2! \\ldots n_k!}\n",
    "$$\n",
    "\n",
    "This expression is called a multinomial coefficient and is denoted as \n",
    "\n",
    "$$\n",
    "\\binom{n}{n_1, n_2, \\ldots, n_k}\n",
    "$$.\n"
   ]
  },
  {
   "cell_type": "markdown",
   "metadata": {},
   "source": [
    "## Exercises\n",
    "\n",
    ":::{#exr-combinations}\n",
    "\n",
    "## Password Cracking\n",
    "\n",
    "A site asks you to generate a password with 6 characters. The password must contain only ASCII lowercase letters (a-z). What is the maximum time it would take to crack the password if the attacker tries all possible passwords (and is unlucky enough to find the password in the last attempt)? Assume that the attacker can try one billion passwords per second.\n",
    "\n",
    "How does the answer change if the password may contain both lowercase and uppercase letters (a-z, A-Z), digits (0-9), and special characters (!@#$%^&*()_+)?\n",
    "\n",
    "How does the answer change if the password must be exactly 14 characters long?\n",
    "\n",
    ":::\n"
   ]
  },
  {
   "cell_type": "markdown",
   "metadata": {},
   "source": [
    "\n",
    ":::{#exr-combinations}\n",
    "## Number of Student Committees\n",
    "\n",
    "Let's say that you want to form a student council with 5 members out of a class of 35 students. \n",
    "\n",
    "- How many different student councils can you form?\n",
    "- Let's assume that the class consists of 20 women and 15 men. How many different student councils can you form if the student council must consist of 3 women and 2 men?\n",
    "- Assume that two of the men have a conflict and cannot sit on the student council together.\n",
    "\n",
    ":::"
   ]
  },
  {
   "cell_type": "markdown",
   "metadata": {},
   "source": [
    ":::{#exr-power-set}\n",
    "## Power Set\n",
    "\n",
    "The power set of a set $S$ is the set of all subsets of $S$, including the empty set and $S$ itself. For a set with $n$ elements, how much elements does the power set have?\n",
    "\n",
    ":::"
   ]
  },
  {
   "cell_type": "markdown",
   "metadata": {},
   "source": [
    ":::{#exr-binomial-coefficients}\n",
    "## Binomial Coefficients\n",
    "\n",
    "Argue why the following sum of binomial coefficients for a fixed $n$ is equal to $2^n$:\n",
    "\n",
    "$$\n",
    "\\sum_{k = 0}^{n} \\binom{n}{k} = \\binom{n}{0} + \\binom{n}{1} + \\binom{n}{2} + \\ldots + \\binom{n}{n} = 2^n\n",
    "$$\n"
   ]
  },
  {
   "cell_type": "markdown",
   "metadata": {},
   "source": [
    "\n",
    ":::{#exr-combinations-2}\n",
    "\n",
    "An IT department has four lead developers and 12 junior developers. The company wants to form four teams of equal size out of all developers. How many ways can the teams be formed?\n",
    "\n",
    "If the teams are formed at random (i.e. each group of four developers is equally likely), what is the probability that all teams include a lead developer?\n",
    ":::\n"
   ]
  },
  {
   "cell_type": "markdown",
   "metadata": {},
   "source": [
    "\n",
    ":::{#exr-combinations-3}\n",
    "\n",
    "You roll three dice (6-sided) and sum the results. Which event is more probable: rolling a sum of 11 or rolling a sum of 12?\n",
    ":::\n"
   ]
  },
  {
   "cell_type": "code",
   "execution_count": 15,
   "metadata": {},
   "outputs": [],
   "source": [
    "# (Optional) Write a simulation to estimate the probabilities of the sum of three dice rolls being A) 11 and B) 12.\n",
    "\n"
   ]
  },
  {
   "cell_type": "markdown",
   "metadata": {},
   "source": [
    "\n",
    "\n",
    ":::{#exr-birthdays}\n",
    "## Birthdays in a Classroom\n",
    "\n",
    "In our class of (let's say) $n$ students, what is the probability (as a function of $n$) that at least two students share the same birthday? For simplicity, assume that there are 365 days in a year and that each student is equally likely to be born on any day of the year. What is the smallest value of $n$ for which the probability is greater than 1/2?\n",
    "\n",
    ":::"
   ]
  },
  {
   "cell_type": "markdown",
   "metadata": {},
   "source": [
    ":::{#exr-poker}\n",
    "## Full House in Poker\n",
    "\n",
    "![](https://as2.ftcdn.net/v2/jpg/03/41/80/33/1000_F_341803398_DPfP99KnvQChRNcC1kuFdEEElQUPxMm0.jpg){style=\"width: 300px\"}\n",
    "\n",
    "You play a game of poker with a standard deck of 52 cards. A full house is a hand that contains three cards of one rank and a pair of another rank.\n",
    "You are dealt a hand from a well-shuffled deck of cards. What is the probability that you are dealt a full house?\n",
    "\n",
    ":::"
   ]
  }
 ],
 "metadata": {
  "kernelspec": {
   "display_name": "stat2024",
   "language": "python",
   "name": "python3"
  },
  "language_info": {
   "codemirror_mode": {
    "name": "ipython",
    "version": 3
   },
   "file_extension": ".py",
   "mimetype": "text/x-python",
   "name": "python",
   "nbconvert_exporter": "python",
   "pygments_lexer": "ipython3",
   "version": "3.12.5"
  }
 },
 "nbformat": 4,
 "nbformat_minor": 2
}
