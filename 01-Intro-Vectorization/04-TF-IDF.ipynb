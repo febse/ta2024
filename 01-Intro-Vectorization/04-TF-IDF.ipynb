{
 "cells": [
  {
   "cell_type": "markdown",
   "metadata": {},
   "source": [
    "## TF-IDF \n",
    "\n",
    "Until now we have looked at the term frequency matrix (counts of words in documents). However, the term frequency matrix\n",
    "does not take into account the importance of words in the document. For example, the word \"the\" is likely to appear in\n",
    "most documents, but it is not very informative. The term frequency-inverse document frequency (TF-IDF) is a measure that\n",
    "takes into account the importance of words in the document.\n",
    "\n",
    "**Term frequency** ($TF(i)$) is the number of occurrences of word $i$ in document $D$. It depends strongly\n",
    "on how general a word is (e.g. \"has\" vs. \"cosine\" in general literature) and also on the length of the document.\n",
    "\n",
    "**Document frequency** ($DF(i)$) is the number of documents that contain word $i$.\n",
    "\n",
    "**Inverse document frequency** ($IDF(i)$) is simply the inverse relative frequency of the word in the set of documents.\n",
    "With $N$ documents the IDF is given by:\n",
    "\n",
    "$$\n",
    "    IDF(i) = \\frac{N}{DF(i)}\n",
    "$$\n",
    "\n",
    "It is large for words that occur in many documents, and it will be small for words that appear in only a few documents.\n",
    "\n",
    "A problem with this definition is that the IDF becomes very large for large corpora (large N) so it is commonly replaced\n",
    "by its logarithm.\n",
    "\n",
    "$$\n",
    "    IDF(i) = 1 + \\log\\left(\\frac{N}{DF(i)}\\right)\n",
    "$$\n",
    "\n",
    "The addition of 1 in the above equation serves to ensure that the words that occur in all documents are not entirely discarded. The default IDF used in `TfidfVectorizer` is:\n",
    "\n",
    "$$\n",
    "    IDF(i) = 1 + \\log\\left(\\frac{N + 1}{DF(i) + 1}\\right)\n",
    "$$\n",
    "\n",
    "$$\n",
    "    \\text{TF-IDF}(i, d) = TF(i, d) \\times IDF(i)\n",
    "$$\n",
    "\n",
    "Let's calculate it for the toy corpus with just three documents:\n",
    "\n",
    "```\n",
    "    \"the quick brown fox\",\n",
    "    \"the fast brown dog\",\n",
    "    \"the quick red fox\"\n",
    "```\n"
   ]
  },
  {
   "cell_type": "code",
   "execution_count": 1,
   "metadata": {},
   "outputs": [
    {
     "data": {
      "text/html": [
       "<div>\n",
       "<style scoped>\n",
       "    .dataframe tbody tr th:only-of-type {\n",
       "        vertical-align: middle;\n",
       "    }\n",
       "\n",
       "    .dataframe tbody tr th {\n",
       "        vertical-align: top;\n",
       "    }\n",
       "\n",
       "    .dataframe thead th {\n",
       "        text-align: right;\n",
       "    }\n",
       "</style>\n",
       "<table border=\"1\" class=\"dataframe\">\n",
       "  <thead>\n",
       "    <tr style=\"text-align: right;\">\n",
       "      <th></th>\n",
       "      <th>brown</th>\n",
       "      <th>dog</th>\n",
       "      <th>fast</th>\n",
       "      <th>fox</th>\n",
       "      <th>quick</th>\n",
       "      <th>red</th>\n",
       "      <th>the</th>\n",
       "    </tr>\n",
       "  </thead>\n",
       "  <tbody>\n",
       "    <tr>\n",
       "      <th>0</th>\n",
       "      <td>1</td>\n",
       "      <td>0</td>\n",
       "      <td>0</td>\n",
       "      <td>1</td>\n",
       "      <td>1</td>\n",
       "      <td>0</td>\n",
       "      <td>1</td>\n",
       "    </tr>\n",
       "    <tr>\n",
       "      <th>1</th>\n",
       "      <td>1</td>\n",
       "      <td>1</td>\n",
       "      <td>1</td>\n",
       "      <td>0</td>\n",
       "      <td>0</td>\n",
       "      <td>0</td>\n",
       "      <td>1</td>\n",
       "    </tr>\n",
       "    <tr>\n",
       "      <th>2</th>\n",
       "      <td>0</td>\n",
       "      <td>0</td>\n",
       "      <td>0</td>\n",
       "      <td>1</td>\n",
       "      <td>1</td>\n",
       "      <td>1</td>\n",
       "      <td>1</td>\n",
       "    </tr>\n",
       "  </tbody>\n",
       "</table>\n",
       "</div>"
      ],
      "text/plain": [
       "   brown  dog  fast  fox  quick  red  the\n",
       "0      1    0     0    1      1    0    1\n",
       "1      1    1     1    0      0    0    1\n",
       "2      0    0     0    1      1    1    1"
      ]
     },
     "execution_count": 1,
     "metadata": {},
     "output_type": "execute_result"
    }
   ],
   "source": [
    "from sklearn.feature_extraction.text import CountVectorizer, TfidfVectorizer\n",
    "import numpy as np\n",
    "import pandas as pd\n",
    "\n",
    "corpus = ['the quick brown fox',\n",
    "          'the fast brown dog',\n",
    "          'the quick red fox'\n",
    "          ]\n",
    "\n",
    "\n",
    "c_vect = CountVectorizer()\n",
    "\n",
    "term_matrix = c_vect.fit_transform(corpus)\n",
    "term_matrix_dense = term_matrix.toarray()\n",
    "\n",
    "pd.DataFrame(term_matrix_dense, columns=c_vect.get_feature_names_out())"
   ]
  },
  {
   "cell_type": "code",
   "execution_count": 2,
   "metadata": {},
   "outputs": [
    {
     "data": {
      "text/html": [
       "<div>\n",
       "<style scoped>\n",
       "    .dataframe tbody tr th:only-of-type {\n",
       "        vertical-align: middle;\n",
       "    }\n",
       "\n",
       "    .dataframe tbody tr th {\n",
       "        vertical-align: top;\n",
       "    }\n",
       "\n",
       "    .dataframe thead th {\n",
       "        text-align: right;\n",
       "    }\n",
       "</style>\n",
       "<table border=\"1\" class=\"dataframe\">\n",
       "  <thead>\n",
       "    <tr style=\"text-align: right;\">\n",
       "      <th></th>\n",
       "      <th>0</th>\n",
       "    </tr>\n",
       "  </thead>\n",
       "  <tbody>\n",
       "    <tr>\n",
       "      <th>brown</th>\n",
       "      <td>2</td>\n",
       "    </tr>\n",
       "    <tr>\n",
       "      <th>dog</th>\n",
       "      <td>1</td>\n",
       "    </tr>\n",
       "    <tr>\n",
       "      <th>fast</th>\n",
       "      <td>1</td>\n",
       "    </tr>\n",
       "    <tr>\n",
       "      <th>fox</th>\n",
       "      <td>2</td>\n",
       "    </tr>\n",
       "    <tr>\n",
       "      <th>quick</th>\n",
       "      <td>2</td>\n",
       "    </tr>\n",
       "    <tr>\n",
       "      <th>red</th>\n",
       "      <td>1</td>\n",
       "    </tr>\n",
       "    <tr>\n",
       "      <th>the</th>\n",
       "      <td>3</td>\n",
       "    </tr>\n",
       "  </tbody>\n",
       "</table>\n",
       "</div>"
      ],
      "text/plain": [
       "       0\n",
       "brown  2\n",
       "dog    1\n",
       "fast   1\n",
       "fox    2\n",
       "quick  2\n",
       "red    1\n",
       "the    3"
      ]
     },
     "execution_count": 2,
     "metadata": {},
     "output_type": "execute_result"
    }
   ],
   "source": [
    "# First we limit the elements of the matrix to a maximum of 1,\n",
    "# and then sum the matrix column-wise\n",
    "doc_frequencies = np.clip(term_matrix_dense, None, 1).sum(axis=0)\n",
    "\n",
    "\n",
    "pd.DataFrame(doc_frequencies, index=c_vect.get_feature_names_out())\n"
   ]
  },
  {
   "cell_type": "code",
   "execution_count": 3,
   "metadata": {},
   "outputs": [
    {
     "data": {
      "text/html": [
       "<div>\n",
       "<style scoped>\n",
       "    .dataframe tbody tr th:only-of-type {\n",
       "        vertical-align: middle;\n",
       "    }\n",
       "\n",
       "    .dataframe tbody tr th {\n",
       "        vertical-align: top;\n",
       "    }\n",
       "\n",
       "    .dataframe thead th {\n",
       "        text-align: right;\n",
       "    }\n",
       "</style>\n",
       "<table border=\"1\" class=\"dataframe\">\n",
       "  <thead>\n",
       "    <tr style=\"text-align: right;\">\n",
       "      <th></th>\n",
       "      <th>brown</th>\n",
       "      <th>dog</th>\n",
       "      <th>fast</th>\n",
       "      <th>fox</th>\n",
       "      <th>quick</th>\n",
       "      <th>red</th>\n",
       "      <th>the</th>\n",
       "    </tr>\n",
       "  </thead>\n",
       "  <tbody>\n",
       "    <tr>\n",
       "      <th>doc1</th>\n",
       "      <td>1.287682</td>\n",
       "      <td>0.000000</td>\n",
       "      <td>0.000000</td>\n",
       "      <td>1.287682</td>\n",
       "      <td>1.287682</td>\n",
       "      <td>0.000000</td>\n",
       "      <td>1.0</td>\n",
       "    </tr>\n",
       "    <tr>\n",
       "      <th>doc2</th>\n",
       "      <td>1.287682</td>\n",
       "      <td>1.693147</td>\n",
       "      <td>1.693147</td>\n",
       "      <td>0.000000</td>\n",
       "      <td>0.000000</td>\n",
       "      <td>0.000000</td>\n",
       "      <td>1.0</td>\n",
       "    </tr>\n",
       "    <tr>\n",
       "      <th>doc3</th>\n",
       "      <td>0.000000</td>\n",
       "      <td>0.000000</td>\n",
       "      <td>0.000000</td>\n",
       "      <td>1.287682</td>\n",
       "      <td>1.287682</td>\n",
       "      <td>1.693147</td>\n",
       "      <td>1.0</td>\n",
       "    </tr>\n",
       "  </tbody>\n",
       "</table>\n",
       "</div>"
      ],
      "text/plain": [
       "         brown       dog      fast       fox     quick       red  the\n",
       "doc1  1.287682  0.000000  0.000000  1.287682  1.287682  0.000000  1.0\n",
       "doc2  1.287682  1.693147  1.693147  0.000000  0.000000  0.000000  1.0\n",
       "doc3  0.000000  0.000000  0.000000  1.287682  1.287682  1.693147  1.0"
      ]
     },
     "execution_count": 3,
     "metadata": {},
     "output_type": "execute_result"
    }
   ],
   "source": [
    "tfidf_vect = TfidfVectorizer(smooth_idf=True, use_idf=True, norm=None)\n",
    "tfidf_term_matrix = tfidf_vect.fit_transform(corpus)\n",
    "pd.DataFrame(\n",
    "    tfidf_term_matrix.toarray(),\n",
    "    columns=c_vect.get_feature_names_out(),\n",
    "    index=[f\"doc{i}\" for i in range(1, len(corpus) + 1)]\n",
    "    )"
   ]
  },
  {
   "cell_type": "code",
   "execution_count": 4,
   "metadata": {},
   "outputs": [
    {
     "data": {
      "text/plain": [
       "array([1.28768207, 1.69314718, 1.69314718, 1.28768207, 1.28768207,\n",
       "       1.69314718, 1.        ])"
      ]
     },
     "execution_count": 4,
     "metadata": {},
     "output_type": "execute_result"
    }
   ],
   "source": [
    "# Get the inverse document frequency\n",
    "tfidf_vect.idf_"
   ]
  },
  {
   "cell_type": "code",
   "execution_count": 5,
   "metadata": {},
   "outputs": [
    {
     "name": "stdout",
     "output_type": "stream",
     "text": [
      "1.0\n",
      "1.2876820724517808\n"
     ]
    }
   ],
   "source": [
    "# TF-IDF for \"the\"\n",
    "import math\n",
    "\n",
    "tfidf_the = 1 + math.log((3 + 1)/ (3 + 1))\n",
    "print(tfidf_the)\n",
    "\n",
    "# IDF for \"brown\" in the first document\n",
    "\n",
    "tfidf_brown = 1 + math.log((3 + 1)/ (2 + 1))\n",
    "print(tfidf_brown)\n"
   ]
  }
 ],
 "metadata": {
  "kernelspec": {
   "display_name": "ta2024",
   "language": "python",
   "name": "python3"
  },
  "language_info": {
   "codemirror_mode": {
    "name": "ipython",
    "version": 3
   },
   "file_extension": ".py",
   "mimetype": "text/x-python",
   "name": "python",
   "nbconvert_exporter": "python",
   "pygments_lexer": "ipython3",
   "version": "3.11.10"
  }
 },
 "nbformat": 4,
 "nbformat_minor": 1
}
