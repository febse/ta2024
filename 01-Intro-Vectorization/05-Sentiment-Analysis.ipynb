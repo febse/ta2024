{
 "cells": [
  {
   "cell_type": "markdown",
   "metadata": {},
   "source": [
    "# Case Study: Sentiment Analysis"
   ]
  },
  {
   "cell_type": "markdown",
   "metadata": {
    "pycharm": {
     "is_executing": false
    }
   },
   "source": [
    "### Setup\n",
    "\n",
    "The following dataset contains a collection of product reviews and their numeric rating (1-5). We will treat the rating as a sentiment label, where 1 and 2 are negative, 3 is neutral, and 4 and 5 are positive. We will build a sentiment analysis model using this dataset. For simplicity, we will exclude the neutral reviews.\n",
    " "
   ]
  },
  {
   "cell_type": "code",
   "execution_count": 4,
   "metadata": {
    "ExecuteTime": {
     "end_time": "2023-11-27T16:41:21.659078861Z",
     "start_time": "2023-11-27T16:41:20.934605210Z"
    }
   },
   "outputs": [
    {
     "data": {
      "text/html": [
       "<div>\n",
       "<style scoped>\n",
       "    .dataframe tbody tr th:only-of-type {\n",
       "        vertical-align: middle;\n",
       "    }\n",
       "\n",
       "    .dataframe tbody tr th {\n",
       "        vertical-align: top;\n",
       "    }\n",
       "\n",
       "    .dataframe thead th {\n",
       "        text-align: right;\n",
       "    }\n",
       "</style>\n",
       "<table border=\"1\" class=\"dataframe\">\n",
       "  <thead>\n",
       "    <tr style=\"text-align: right;\">\n",
       "      <th></th>\n",
       "      <th>Unnamed: 0</th>\n",
       "      <th>Product Name</th>\n",
       "      <th>Brand Name</th>\n",
       "      <th>Price</th>\n",
       "      <th>Rating</th>\n",
       "      <th>Reviews</th>\n",
       "      <th>Review Votes</th>\n",
       "    </tr>\n",
       "  </thead>\n",
       "  <tbody>\n",
       "    <tr>\n",
       "      <th>0</th>\n",
       "      <td>394349</td>\n",
       "      <td>Sony XPERIA Z2 D6503 FACTORY UNLOCKED Internat...</td>\n",
       "      <td>NaN</td>\n",
       "      <td>244.95</td>\n",
       "      <td>5</td>\n",
       "      <td>Very good one! Better than Samsung S and iphon...</td>\n",
       "      <td>0.0</td>\n",
       "    </tr>\n",
       "    <tr>\n",
       "      <th>1</th>\n",
       "      <td>34377</td>\n",
       "      <td>Apple iPhone 5c 8GB (Pink) - Verizon Wireless</td>\n",
       "      <td>Apple</td>\n",
       "      <td>194.99</td>\n",
       "      <td>1</td>\n",
       "      <td>The phone needed a SIM card, would have been n...</td>\n",
       "      <td>1.0</td>\n",
       "    </tr>\n",
       "    <tr>\n",
       "      <th>2</th>\n",
       "      <td>248521</td>\n",
       "      <td>Motorola Droid RAZR MAXX XT912 M Verizon Smart...</td>\n",
       "      <td>Motorola</td>\n",
       "      <td>174.99</td>\n",
       "      <td>5</td>\n",
       "      <td>I was 3 months away from my upgrade and my Str...</td>\n",
       "      <td>3.0</td>\n",
       "    </tr>\n",
       "    <tr>\n",
       "      <th>3</th>\n",
       "      <td>167661</td>\n",
       "      <td>CNPGD [U.S. Office Extended Warranty] Smartwat...</td>\n",
       "      <td>CNPGD</td>\n",
       "      <td>49.99</td>\n",
       "      <td>1</td>\n",
       "      <td>an experience i want to forget</td>\n",
       "      <td>0.0</td>\n",
       "    </tr>\n",
       "    <tr>\n",
       "      <th>4</th>\n",
       "      <td>73287</td>\n",
       "      <td>Apple iPhone 7 Unlocked Phone 256 GB - US Vers...</td>\n",
       "      <td>Apple</td>\n",
       "      <td>922.00</td>\n",
       "      <td>5</td>\n",
       "      <td>GREAT PHONE WORK ACCORDING MY EXPECTATIONS.</td>\n",
       "      <td>1.0</td>\n",
       "    </tr>\n",
       "  </tbody>\n",
       "</table>\n",
       "</div>"
      ],
      "text/plain": [
       "   Unnamed: 0                                       Product Name Brand Name  \\\n",
       "0      394349  Sony XPERIA Z2 D6503 FACTORY UNLOCKED Internat...        NaN   \n",
       "1       34377      Apple iPhone 5c 8GB (Pink) - Verizon Wireless      Apple   \n",
       "2      248521  Motorola Droid RAZR MAXX XT912 M Verizon Smart...   Motorola   \n",
       "3      167661  CNPGD [U.S. Office Extended Warranty] Smartwat...      CNPGD   \n",
       "4       73287  Apple iPhone 7 Unlocked Phone 256 GB - US Vers...      Apple   \n",
       "\n",
       "    Price  Rating                                            Reviews  \\\n",
       "0  244.95       5  Very good one! Better than Samsung S and iphon...   \n",
       "1  194.99       1  The phone needed a SIM card, would have been n...   \n",
       "2  174.99       5  I was 3 months away from my upgrade and my Str...   \n",
       "3   49.99       1                     an experience i want to forget   \n",
       "4  922.00       5        GREAT PHONE WORK ACCORDING MY EXPECTATIONS.   \n",
       "\n",
       "   Review Votes  \n",
       "0           0.0  \n",
       "1           1.0  \n",
       "2           3.0  \n",
       "3           0.0  \n",
       "4           1.0  "
      ]
     },
     "execution_count": 4,
     "metadata": {},
     "output_type": "execute_result"
    }
   ],
   "source": [
    "import pandas as pd\n",
    "import numpy as np\n",
    "import seaborn as sns\n",
    "from sklearn.model_selection import train_test_split\n",
    "from sklearn.feature_extraction.text import CountVectorizer\n",
    "from sklearn.linear_model import LogisticRegression\n",
    "from sklearn.metrics import roc_auc_score, roc_curve\n",
    "from sklearn.feature_extraction.text import TfidfVectorizer\n",
    "import matplotlib.pyplot as plt\n",
    "import nltk\n",
    "\n",
    "# Read in the data\n",
    "df = pd.read_csv(\"https://github.com/febse/data/raw/refs/heads/main/ta/reviews.csv\")\n",
    "# Sample the data to speed up computation\n",
    "# Comment out this line to match with lecture\n",
    "\n",
    "df.head()\n"
   ]
  },
  {
   "cell_type": "code",
   "execution_count": 6,
   "metadata": {
    "ExecuteTime": {
     "end_time": "2023-11-27T16:41:21.808589767Z",
     "start_time": "2023-11-27T16:41:21.665291419Z"
    },
    "scrolled": true
   },
   "outputs": [
    {
     "data": {
      "text/plain": [
       "1     The phone needed a SIM card, would have been n...\n",
       "2     I was 3 months away from my upgrade and my Str...\n",
       "3                        an experience i want to forget\n",
       "4           GREAT PHONE WORK ACCORDING MY EXPECTATIONS.\n",
       "5     I fell in love with this phone because it did ...\n",
       "6     I am pleased with this Blackberry phone! The p...\n",
       "7     Great product, best value for money smartphone...\n",
       "9             I've bought 3 no problems. Fast delivery.\n",
       "10                         Great phone for the price...\n",
       "11    My mom is not good with new technoloy but this...\n",
       "Name: Reviews, dtype: object"
      ]
     },
     "execution_count": 6,
     "metadata": {},
     "output_type": "execute_result"
    }
   ],
   "source": [
    "# Remove missing values\n",
    "df.dropna(inplace=True)\n",
    "\n",
    "# Drop reviews with neutral ratings\n",
    "df = df[df['Rating'] != 3]\n",
    "\n",
    "\"Super! No problem with the phone\"\n",
    "\"Many problems with the phone\"\n",
    "\n",
    "# Map ratings 4 and 5 to \"positive\" \n",
    "# Map ratings 1 and 2 to \"negative\"\n",
    "df[\"positive\"] = np.where(df['Rating'] > 3, 1, 0)\n",
    "df.Reviews.head(10)"
   ]
  },
  {
   "cell_type": "code",
   "execution_count": 7,
   "metadata": {
    "ExecuteTime": {
     "end_time": "2023-11-27T16:41:21.810281859Z",
     "start_time": "2023-11-27T16:41:21.706459396Z"
    }
   },
   "outputs": [
    {
     "data": {
      "text/plain": [
       "0.7475259604695931"
      ]
     },
     "execution_count": 7,
     "metadata": {},
     "output_type": "execute_result"
    }
   ],
   "source": [
    "# Most ratings are positive\n",
    "df['positive'].mean()"
   ]
  },
  {
   "cell_type": "code",
   "execution_count": 8,
   "metadata": {
    "ExecuteTime": {
     "end_time": "2023-11-27T16:41:21.814224116Z",
     "start_time": "2023-11-27T16:41:21.707167829Z"
    }
   },
   "outputs": [],
   "source": [
    "# Split data into training and test sets\n",
    "X_train, X_test, y_train, y_test = train_test_split(df['Reviews'],\n",
    "                                                    df['positive'],\n",
    "                                                    random_state=0)"
   ]
  },
  {
   "cell_type": "code",
   "execution_count": 9,
   "metadata": {
    "ExecuteTime": {
     "end_time": "2023-11-27T16:41:21.847396628Z",
     "start_time": "2023-11-27T16:41:21.750357077Z"
    }
   },
   "outputs": [
    {
     "name": "stdout",
     "output_type": "stream",
     "text": [
      "X_train first entry:\n",
      "\n",
      " Broke in like 20 mins\n",
      "\n",
      "\n",
      "X_train shape:  (27662,)\n"
     ]
    }
   ],
   "source": [
    "print('X_train first entry:\\n\\n', X_train.iloc[0])\n",
    "print('\\n\\nX_train shape: ', X_train.shape)"
   ]
  },
  {
   "cell_type": "markdown",
   "metadata": {},
   "source": [
    "# TF-IDF\n",
    "\n",
    "Fit another logistic regression model. This time vectorize using the DF-IDF vectorization."
   ]
  },
  {
   "cell_type": "code",
   "execution_count": 31,
   "metadata": {
    "ExecuteTime": {
     "end_time": "2023-11-27T16:47:45.381266360Z",
     "start_time": "2023-11-27T16:47:44.909626073Z"
    }
   },
   "outputs": [
    {
     "data": {
      "text/plain": [
       "21374"
      ]
     },
     "execution_count": 31,
     "metadata": {},
     "output_type": "execute_result"
    }
   ],
   "source": [
    "# Fit the TfidfVectorizer to the training data specifying a minimum document frequency of 5\n",
    "idf_vect = TfidfVectorizer()\n",
    "idf_vect.fit(X_train)\n",
    "len(idf_vect.get_feature_names_out())"
   ]
  },
  {
   "cell_type": "markdown",
   "metadata": {},
   "source": [
    "# N-grams\n",
    "\n",
    "Include bigrams in the model. Fit another logistic regression model and compare its test performance with the previous model. Look \n",
    "at the top-10 features for each class.\n"
   ]
  }
 ],
 "metadata": {
  "kernelspec": {
   "display_name": "ta2024",
   "language": "python",
   "name": "python3"
  },
  "language_info": {
   "codemirror_mode": {
    "name": "ipython",
    "version": 3
   },
   "file_extension": ".py",
   "mimetype": "text/x-python",
   "name": "python",
   "nbconvert_exporter": "python",
   "pygments_lexer": "ipython3",
   "version": "3.12.5"
  }
 },
 "nbformat": 4,
 "nbformat_minor": 1
}
